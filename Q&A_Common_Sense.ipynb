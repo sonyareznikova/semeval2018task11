{
 "cells": [
  {
   "cell_type": "code",
   "execution_count": 11,
   "metadata": {
    "collapsed": true
   },
   "outputs": [],
   "source": [
    "import nltk\n",
    "import numpy as np\n",
    "import pandas as pd\n",
    "import xml.etree.ElementTree as ET\n",
    "import random as rd\n",
    "from matplotlib import pyplot as plt\n",
    "from nltk.corpus import wordnet as wn\n",
    "%matplotlib inline"
   ]
  },
  {
   "cell_type": "markdown",
   "metadata": {},
   "source": [
    "## Reading and Preprocessing Data\n",
    "Parsing xml train and dev data\n",
    "Tokenising text/questions/answers, getting rid of punctuation and upper cases "
   ]
  },
  {
   "cell_type": "code",
   "execution_count": 23,
   "metadata": {
    "collapsed": true
   },
   "outputs": [],
   "source": [
    "xml_train = open('MCScript/train-data.xml').read()\n",
    "xml_dev = open('MCScript/dev-data.xml').read()\n",
    "xml_test = open('MCScript/test-data.xml').read()"
   ]
  },
  {
   "cell_type": "code",
   "execution_count": 24,
   "metadata": {
    "collapsed": true
   },
   "outputs": [],
   "source": [
    "# method to preprocess data\n",
    "\n",
    "punctuation_and_extra = set(list('!\"#$%&\\'()*+,-./:;<=>? @[\\\\]^_`{|}~£'))\n",
    "punctuation_and_extra.update([\"'s\", \"n't\", \"``\", \"''\", \"'ll\", \"'m\", \"'d\", \"'ve\", \"wa\"])\n",
    "\n",
    "def preprocess_text(text):\n",
    "    tokens = nltk.word_tokenize(text)\n",
    "    tokenised_text = []\n",
    "    for word in tokens:\n",
    "        if \":\" in word: #to deal with time formats, e.g. 5:00am\n",
    "            new_word = word.replace(\":\", \" \")\n",
    "            tokenised_text.append(new_word.lower())\n",
    "        else:\n",
    "            if (wn.morphy(word.lower()) != None):\n",
    "                tokenised_text.append(wn.morphy(word.lower()))\n",
    "            else:\n",
    "                tokenised_text.append(word.lower())\n",
    "    tokenised_text = list(filter(lambda x: x not in punctuation_and_extra, tokenised_text))\n",
    "    return tokenised_text"
   ]
  },
  {
   "cell_type": "code",
   "execution_count": 25,
   "metadata": {
    "collapsed": true
   },
   "outputs": [],
   "source": [
    "# method to read data from xml\n",
    "\n",
    "def xml2listData(xml_data):\n",
    "    data = []\n",
    "    root = ET.XML(xml_data)\n",
    "    for child in root:\n",
    "        instance = {}\n",
    "        for subchild in child:\n",
    "            if subchild.tag == 'text':\n",
    "                instance['text_id'] = child.attrib[\"id\"]\n",
    "                instance[subchild.tag] = preprocess_text(subchild.text)\n",
    "            if subchild.tag == 'questions':\n",
    "                questions = []\n",
    "                for question in subchild:\n",
    "                    single_question = {}\n",
    "                    single_question['question_id'] = question.attrib[\"id\"]\n",
    "                    single_question['question_text'] = preprocess_text(question.attrib[\"text\"])\n",
    "                    answers = []\n",
    "                    for answer in question:\n",
    "                        single_answer = {}\n",
    "                        single_answer['answer_id'] = answer.attrib[\"id\"]\n",
    "                        single_answer['answer_text'] = preprocess_text(answer.attrib[\"text\"])\n",
    "                        single_answer['correct'] = answer.attrib[\"correct\"]\n",
    "                        answers.append(single_answer)\n",
    "                    single_question['answers'] = answers\n",
    "                    questions.append(single_question)\n",
    "                instance['questions'] = questions\n",
    "        data.append(instance)\n",
    "    return data"
   ]
  },
  {
   "cell_type": "code",
   "execution_count": 26,
   "metadata": {
    "collapsed": true
   },
   "outputs": [],
   "source": [
    "train_data = xml2listData(xml_train)\n",
    "dev_data = xml2listData(xml_dev)\n",
    "test_data = xml2listData(xml_test)"
   ]
  },
  {
   "cell_type": "markdown",
   "metadata": {},
   "source": [
    "Parsing and preprocessing knowledge script data"
   ]
  },
  {
   "cell_type": "code",
   "execution_count": 30,
   "metadata": {
    "collapsed": true
   },
   "outputs": [],
   "source": [
    "# method to read DeScript xml\n",
    "\n",
    "def xml2listDeScript(xml_file):\n",
    "    data = []\n",
    "    root = ET.XML(xml_file)\n",
    "    for label in root:\n",
    "        for item in label:\n",
    "            data.append(preprocess_text(item.attrib[\"original\"]))\n",
    "    return data"
   ]
  },
  {
   "cell_type": "code",
   "execution_count": 15,
   "metadata": {
    "collapsed": true
   },
   "outputs": [],
   "source": [
    "import glob\n",
    "# returns a list of strings which are names of files\n",
    "first_gold_standard = glob.glob(\"./DeScript_LREC2016/gold_paraphrase_sets/first_gold_annotation/*.xml\")\n",
    "second_gold_standard = glob.glob(\"./DeScript_LREC2016/gold_paraphrase_sets/second_gold_annotation/*.xml\")"
   ]
  },
  {
   "cell_type": "code",
   "execution_count": 16,
   "metadata": {
    "collapsed": true
   },
   "outputs": [],
   "source": [
    "def scriptFiles_to_lists(scriptFiles):\n",
    "    topcs = []\n",
    "    for filename in scriptFiles:\n",
    "        current_file = open(filename).read()\n",
    "        topcs.append(xml2listDeScript(current_file))\n",
    "    return topcs\n",
    "\n",
    "topcs1 = scriptFiles_to_lists(first_gold_standard)\n",
    "topcs2 = scriptFiles_to_lists(second_gold_standard)"
   ]
  },
  {
   "cell_type": "code",
   "execution_count": 17,
   "metadata": {
    "collapsed": true
   },
   "outputs": [],
   "source": [
    "# creating a dictionary with topics from both gold standards\n",
    "topics = {'baking_a_cake': np.concatenate(topcs1[0]+topcs2[0]),  'book_from_library': np.concatenate(topcs1[1]+topcs2[1]), 'airplane_flying': np.concatenate(topcs1[2]+topcs2[2]), \n",
    "          'hair_cut': np.concatenate(topcs1[3]+topcs2[3]), 'grocery_shopping': np.concatenate(topcs1[4]+topcs2[4]),'on_the_train': np.concatenate(topcs1[5]+topcs2[5]), \n",
    "          'planting_a_tree': np.concatenate(topcs1[6]+topcs2[6]), 'repair_flat_bike_tyre': np.concatenate(topcs1[7]+topcs2[7]), \n",
    "          'on_the_bus': np.concatenate(topcs1[8]+topcs2[8]), 'taking_bath': np.concatenate(topcs1[9]+topcs2[9])}"
   ]
  },
  {
   "cell_type": "code",
   "execution_count": 18,
   "metadata": {
    "collapsed": true
   },
   "outputs": [],
   "source": [
    "# a dictionary with docs within topics\n",
    "topic_docs = {'baking_a_cake': topcs1[0]+topcs2[0],  'book_from_library': topcs1[1]+topcs2[1], 'airplane_flying': topcs1[2]+topcs2[2], \n",
    "          'hair_cut': topcs1[3]+topcs2[3], 'grocery_shopping': topcs1[4]+topcs2[4],'on_the_train': topcs1[5]+topcs2[5], \n",
    "          'planting_a_tree': topcs1[6]+topcs2[6], 'repair_flat_bike_tyre': topcs1[7]+topcs2[7], \n",
    "          'on_the_bus': topcs1[8]+topcs2[8], 'taking_bath': topcs1[9]+topcs2[9]}"
   ]
  },
  {
   "cell_type": "markdown",
   "metadata": {},
   "source": [
    "## Evaluation Script"
   ]
  },
  {
   "cell_type": "code",
   "execution_count": 31,
   "metadata": {
    "collapsed": true
   },
   "outputs": [],
   "source": [
    "def get_gold(data):\n",
    "    gold_standard = []\n",
    "    for instance in data:\n",
    "        for question in instance['questions']:\n",
    "            instance_result = [instance['text_id']]\n",
    "            instance_result.append(question['question_id'])\n",
    "            for answer in question['answers']:\n",
    "                if answer['correct'] == 'True':\n",
    "                    instance_result.append(answer['answer_id'])\n",
    "            gold_standard.append(instance_result)\n",
    "    return gold_standard"
   ]
  },
  {
   "cell_type": "code",
   "execution_count": 36,
   "metadata": {
    "collapsed": true
   },
   "outputs": [],
   "source": [
    "gold_train = get_gold(train_data)\n",
    "gold_dev = get_gold(dev_data)\n",
    "gold_test = get_gold(test_data)"
   ]
  },
  {
   "cell_type": "code",
   "execution_count": 38,
   "metadata": {
    "collapsed": true
   },
   "outputs": [],
   "source": [
    "# evaluating accuracy, returning a tuple with percentage and list of incorrect answers\n",
    "def evaluate(results, ideal_results):\n",
    "    if (len(results) != len(ideal_results)):\n",
    "        raise Exception(\"Different length of your result and ideal results\")\n",
    "    correct_answers = 0\n",
    "    all_answers = len(results)\n",
    "    incorrect_answers = []\n",
    "    for i in range(all_answers):\n",
    "        if results[i] == ideal_results[i]:\n",
    "            correct_answers += 1\n",
    "        else:\n",
    "            incorrect_answers.append(results[i])\n",
    "    return ((correct_answers/all_answers)*100, incorrect_answers)"
   ]
  },
  {
   "cell_type": "markdown",
   "metadata": {},
   "source": [
    "## Saving Data to File"
   ]
  },
  {
   "cell_type": "code",
   "execution_count": 39,
   "metadata": {
    "collapsed": true
   },
   "outputs": [],
   "source": [
    "def save_results(results):\n",
    "    f = open('answer.txt', 'w')\n",
    "    for res in results:\n",
    "        f.write(\",\".join(res) + \"\\n\")\n",
    "    f.close()"
   ]
  },
  {
   "cell_type": "markdown",
   "metadata": {},
   "source": [
    "## Answering Questions\n",
    "- part 1: answer using only the given text\n",
    "- part 2: answer using other texts with similar topics\n",
    "- part 3: answer using text + knowledge"
   ]
  },
  {
   "cell_type": "markdown",
   "metadata": {},
   "source": [
    "### Part 1. Baseline. Answering Using The Given Text Only"
   ]
  },
  {
   "cell_type": "code",
   "execution_count": 48,
   "metadata": {
    "collapsed": true
   },
   "outputs": [],
   "source": [
    "stopwords = set(nltk.corpus.stopwords.words(\"english\"))"
   ]
  },
  {
   "cell_type": "code",
   "execution_count": 49,
   "metadata": {},
   "outputs": [
    {
     "data": {
      "text/plain": [
       "('917', '1', 28)"
      ]
     },
     "execution_count": 49,
     "metadata": {},
     "output_type": "execute_result"
    }
   ],
   "source": [
    "# getting the longest answer length\n",
    "from operator import itemgetter\n",
    "all_answers = []\n",
    "for instance in train_data+dev_data:\n",
    "    for question in instance['questions']:\n",
    "        for answer in question['answers']:\n",
    "            all_answers.append((instance['text_id'], question['question_id'], len(answer['answer_text'])))\n",
    "max(all_answers,key=itemgetter(2))"
   ]
  },
  {
   "cell_type": "code",
   "execution_count": 40,
   "metadata": {
    "collapsed": true
   },
   "outputs": [],
   "source": [
    "def choose_answer(text, answers):\n",
    "    answer_scores = {}\n",
    "    for answer in answers:\n",
    "        if \" \".join(answer['answer_text']) in \" \".join(text):\n",
    "            answer_scores[answer['answer_id']] = 28 #longest answer length\n",
    "        else:\n",
    "            clean_words = list(filter(lambda x: x not in stopwords, answer['answer_text']))\n",
    "            current_score = 0\n",
    "            for word in clean_words:\n",
    "                if word in text:\n",
    "                    current_score += 1\n",
    "            answer_scores[answer['answer_id']] = current_score \n",
    "    best_answer = max(answer_scores.items(), key=lambda k: k[1])\n",
    "    return best_answer"
   ]
  },
  {
   "cell_type": "code",
   "execution_count": 41,
   "metadata": {
    "collapsed": true
   },
   "outputs": [],
   "source": [
    "#to answer yes-no questions\n",
    "def get_answer_for_general_form(question_text, text, answers):\n",
    "    correct_answer = 0\n",
    "    #leaving only meaningful words in the question\n",
    "    ques = list(filter(lambda x: x not in stopwords, question_text))\n",
    "    occurence_number = 0\n",
    "    for word in ques:\n",
    "        if word in text:\n",
    "            occurence_number += 1\n",
    "    if occurence_number > 2:\n",
    "        for answer in answers:\n",
    "            if 'yes' in answer['answer_text']:\n",
    "                return answer['answer_id']\n",
    "    else:\n",
    "        for answer in answers:\n",
    "            if 'yes' not in answer['answer_text']:\n",
    "                return answer['answer_id']"
   ]
  },
  {
   "cell_type": "code",
   "execution_count": 42,
   "metadata": {
    "collapsed": true
   },
   "outputs": [],
   "source": [
    "def is_general_question(answers):\n",
    "    answer_texts = np.concatenate([answer['answer_text'] for answer in answers])\n",
    "    if \"yes\" in answer_texts:\n",
    "        return True\n",
    "    else:\n",
    "        return False"
   ]
  },
  {
   "cell_type": "code",
   "execution_count": 43,
   "metadata": {
    "collapsed": true
   },
   "outputs": [],
   "source": [
    "#taking into account \"YES/NO\" questions\n",
    "# TODO: add doc2vec similarity between question & answer\n",
    "def choose_answer_v3(text, question_text, answers):\n",
    "    answer_scores = {}\n",
    "    #checking if the question is a general one\n",
    "    is_general = is_general_question(answers)\n",
    "    if is_general:\n",
    "        return get_answer_for_general_form(question_text, text, answers)\n",
    "    #looking for answer\n",
    "    for answer in answers:\n",
    "        if \" \".join(answer['answer_text']) in \" \".join(text):\n",
    "            answer_scores[answer['answer_id']] = 28 #longest answer length\n",
    "        else:\n",
    "            clean_words = list(filter(lambda x: x not in stopwords, answer['answer_text']))\n",
    "            current_score = 0\n",
    "            for word in clean_words:\n",
    "                if word in text:\n",
    "                    current_score += 1\n",
    "            answer_scores[answer['answer_id']] = current_score \n",
    "    best_answer = max(answer_scores.items(), key=lambda k: k[1])\n",
    "    return best_answer[0]"
   ]
  },
  {
   "cell_type": "code",
   "execution_count": 44,
   "metadata": {
    "collapsed": true
   },
   "outputs": [],
   "source": [
    "# assuming data in the train/dev format (dictionaries of dictionaries and lists)\n",
    "# returning results in the form of [[0,1,1],[0,2,1]...]\n",
    "def run(data):\n",
    "    results = []\n",
    "    for instance in data:\n",
    "        for question in instance['questions']:\n",
    "            correct_answers = choose_answer(instance['text'], question['answers'])[0]\n",
    "            question_results = [instance['text_id'], question['question_id'], correct_answers]\n",
    "            results.append(question_results)\n",
    "    return results"
   ]
  },
  {
   "cell_type": "code",
   "execution_count": 45,
   "metadata": {
    "collapsed": true
   },
   "outputs": [],
   "source": [
    "def run_v4(data, choose_answer_method):\n",
    "    results = []\n",
    "    for instance in data:\n",
    "        for question in instance['questions']:\n",
    "            correct_answers = choose_answer_method(instance['text'], question['question_text'],question['answers'])\n",
    "            question_results = [instance['text_id'], question['question_id'], correct_answers]\n",
    "            results.append(question_results)\n",
    "    return results"
   ]
  },
  {
   "cell_type": "markdown",
   "metadata": {},
   "source": [
    "##### Baseline"
   ]
  },
  {
   "cell_type": "code",
   "execution_count": 54,
   "metadata": {},
   "outputs": [
    {
     "name": "stdout",
     "output_type": "stream",
     "text": [
      "Baseline train: 60.20963929709177\n",
      "Baseline dev: 60.45357902197024\n",
      "Baseline test: 60.707901322845906\n"
     ]
    }
   ],
   "source": [
    "print(\"Baseline train: \" + str(evaluate(run(train_data), gold_train)[0]))\n",
    "print(\"Baseline dev: \" + str(evaluate(run(dev_data), gold_dev)[0]))\n",
    "print(\"Baseline test: \" + str(evaluate(run(test_data), gold_test)[0]))"
   ]
  },
  {
   "cell_type": "markdown",
   "metadata": {},
   "source": [
    "##### Yes-No Distinction"
   ]
  },
  {
   "cell_type": "code",
   "execution_count": 53,
   "metadata": {},
   "outputs": [
    {
     "name": "stdout",
     "output_type": "stream",
     "text": [
      "Yes-No for train data: 58.976466961257834\n",
      "Yes-No for dev data: 56.909992912827775\n",
      "Yes-No for test data: 59.52806578476939\n"
     ]
    }
   ],
   "source": [
    "# Yes-No Distinction\n",
    "res_gen = run_v4(train_data, choose_answer_v3)\n",
    "print(\"Yes-No for train data: \" + str(evaluate(res_gen, gold_train)[0]))\n",
    "res_gen_dev = run_v4(dev_data, choose_answer_v3)\n",
    "print(\"Yes-No for dev data: \" + str(evaluate(res_gen_dev, gold_dev)[0]))\n",
    "res_gen_test = run_v4(test_data, choose_answer_v3)\n",
    "print(\"Yes-No for test data: \" + str(evaluate(res_gen_test, gold_test)[0]))"
   ]
  },
  {
   "cell_type": "markdown",
   "metadata": {},
   "source": [
    "##### Comparing Incorrect Answers for Two Methods"
   ]
  },
  {
   "cell_type": "code",
   "execution_count": 64,
   "metadata": {},
   "outputs": [
    {
     "data": {
      "text/plain": [
       "[['20', '5', '1'],\n",
       " ['20', '6', '1'],\n",
       " ['20', '7', '1'],\n",
       " ['20', '8', '1'],\n",
       " ['21', '0', '1']]"
      ]
     },
     "execution_count": 64,
     "metadata": {},
     "output_type": "execute_result"
    }
   ],
   "source": [
    "evaluate(res_gen, gold_train)[1][32:37]"
   ]
  },
  {
   "cell_type": "code",
   "execution_count": 189,
   "metadata": {},
   "outputs": [
    {
     "data": {
      "text/plain": [
       "[['19', '6', '0'],\n",
       " ['20', '1', '0'],\n",
       " ['20', '3', '1'],\n",
       " ['20', '5', '1'],\n",
       " ['20', '6', '1'],\n",
       " ['20', '7', '1']]"
      ]
     },
     "execution_count": 189,
     "metadata": {},
     "output_type": "execute_result"
    }
   ],
   "source": [
    "evaluate(run(train_data), gold_train)[1][33:39]"
   ]
  },
  {
   "cell_type": "markdown",
   "metadata": {},
   "source": [
    "### Part 2. Answering Using Same-Cluster Texts\n",
    "- Modelling topics of train and dev data with BigARTM\n",
    "- Using texts from the same cluster to find the answer"
   ]
  },
  {
   "cell_type": "markdown",
   "metadata": {},
   "source": [
    "#### Topic Modelling with BigARTM"
   ]
  },
  {
   "cell_type": "code",
   "execution_count": 157,
   "metadata": {
    "collapsed": true
   },
   "outputs": [],
   "source": [
    "# transform into suitable input format and getting rid of common English words in the text to aid topic modelling\n",
    "f = open(\"all_texts.txt\", \"w\")\n",
    "all_texts = []\n",
    "for instance in train_data:\n",
    "    clean_text = instance['text']\n",
    "    clean_text = list(filter(lambda x: x not in stopwords, clean_text))\n",
    "    all_texts.append([\"train\" + instance['text_id'] + \" |text \" + \" \".join(clean_text)])\n",
    "for instance in dev_data:\n",
    "    clean_text = instance['text']\n",
    "    clean_text = list(filter(lambda x: x not in stopwords, clean_text))\n",
    "    all_texts.append([\"dev\" + instance['text_id'] + \" |text \" + \" \".join(clean_text)])\n",
    "for instance in test_data:\n",
    "    clean_text = instance['text']\n",
    "    clean_text = list(filter(lambda x: x not in stopwords, clean_text))\n",
    "    all_texts.append([\"test\" + instance['text_id'] + \" |text \" + \" \".join(clean_text)])\n",
    "\n",
    "for text in all_texts:\n",
    "    f.write(text[0]+\"\\n\")\n",
    "f.close()"
   ]
  },
  {
   "cell_type": "code",
   "execution_count": 158,
   "metadata": {
    "collapsed": true
   },
   "outputs": [],
   "source": [
    "# vectorise\n",
    "import artm\n",
    "batch_vectorizer = artm.BatchVectorizer(data_path=\"all_texts.txt\", data_format=\"vowpal_wabbit\", target_folder=\"text_batches\")\n",
    "\n",
    "# create model\n",
    "T = 100 #number of topics\n",
    "model_artm = artm.ARTM(num_topics=110, topic_names=[\"topic\"+str(i) for i in range(110)], class_ids={\"text\":1}, \n",
    "                       num_document_passes=2, reuse_theta=True, cache_theta=True, seed=-1)"
   ]
  },
  {
   "cell_type": "code",
   "execution_count": 159,
   "metadata": {
    "collapsed": true
   },
   "outputs": [],
   "source": [
    "# initialise model\n",
    "dictionary = artm.Dictionary('dictionary')\n",
    "dictionary.gather(batch_vectorizer.data_path)\n",
    "\n",
    "model_artm.scores.add(artm.SparsityPhiScore(name='SparsityPhiScore', class_id=\"text\"))\n",
    "model_artm.scores.add(artm.SparsityThetaScore(name='SparsityThetaScore'))\n",
    "model_artm.scores.add(artm.TopTokensScore(name=\"top_words\", num_tokens=15, class_id=\"text\"))\n",
    "model_artm.scores.add(artm.PerplexityScore(name=\"PerplexityScore\", dictionary='dictionary'))\n",
    "\n",
    "model_artm.initialize('dictionary')"
   ]
  },
  {
   "cell_type": "code",
   "execution_count": 160,
   "metadata": {
    "collapsed": true
   },
   "outputs": [],
   "source": [
    "# fit the model\n",
    "model_artm.fit_offline(batch_vectorizer=batch_vectorizer, num_collection_passes=15)"
   ]
  },
  {
   "cell_type": "code",
   "execution_count": 161,
   "metadata": {
    "collapsed": true
   },
   "outputs": [],
   "source": [
    "model_artm.theta_columns_naming = \"title\""
   ]
  },
  {
   "cell_type": "code",
   "execution_count": 162,
   "metadata": {
    "collapsed": true
   },
   "outputs": [],
   "source": [
    "theta = model_artm.get_theta()"
   ]
  },
  {
   "cell_type": "code",
   "execution_count": 163,
   "metadata": {
    "scrolled": true
   },
   "outputs": [
    {
     "name": "stdout",
     "output_type": "stream",
     "text": [
      "topic0\n",
      "['door', 'front', 'open', 'ring', 'hear', 'package', 'doorbell', 'say', 'man', 'could', 'close', 'know', 'back', 'answer', 'see']\n",
      "topic1\n",
      "['soup', 'pot', 'add', 'cook', 'make', 'chicken', 'rack', 'put', 'pan', 'dinner', 'dishwasher', 'ingredient', 'cooking', 'sauce', 'boil']\n",
      "topic2\n",
      "['plate', 'put', 'set', 'fork', 'table', 'one', 'napkin', 'place', 'silverware', 'cup', 'dinner', 'get', 'knife', 'eat', 'side']\n",
      "topic3\n",
      "['outside', 'get', 'work', 'sandwich', 'pick', 'tom', 'go', 'start', 'rain', 'container', 'job', 'would', 'going', 'put', 'home']\n",
      "topic4\n",
      "['would', 'go', 'though', 'going', 'could', 'well', 'water', 'sponge', 'jessie', 'back', 'like', 'love', 'dress', 'float', 'stay']\n",
      "topic5\n",
      "['dog', 'hot', 'put', 'cook', 'take', 'grill', 'mustard', 'bun', 'ketchup', 'buns', 'eat', 'make', 'microwave', 'place', 'cooking']\n",
      "topic6\n",
      "['lunch', 'time', 'know', 'late', 'go', 'quickly', 'home', 'around', 'would', 'today', 'sat', 'parent', 'heavy', 'help', 'order']\n",
      "topic7\n",
      "['dish', 'bread', 'toast', 'toaster', 'put', 'dry', 'butter', 'sink', 'slice', 'take', 'kitchen', 'one', 'pop', 'turn', 'make']\n",
      "topic8\n",
      "['gas', 'car', 'pump', 'tank', 'station', 'pull', 'fuel', 'back', 'nozzle', 'get', 'cap', 'put', 'fill', 'card', 'truck']\n",
      "topic9\n",
      "['room', 'living', 'start', 'one', 'bottom', 'top', 'next', 'small', 'like', 'little', 'dad', 'take', 'side', 'time', 'shelf']\n",
      "topic10\n",
      "['john', 'dad', 'newspaper', 'get', 'like', 'morning', 'wake', 'start', 'coffee', 'love', 'go', 'every', 'house', 'kind', 'want']\n",
      "topic11\n",
      "['wallpaper', 'cut', 'paper', 'would', 'get', 'apply', 'go', 'take', 'able', 'use', 'sweater', 'start', 'wound', 'read', 'design']\n",
      "topic12\n",
      "['say', 'mouth', 'go', 'dentist', 'teeth', 'chair', 'like', 'open', 'little', 'get', 'sat', 'take', 'drove', 'one', 'lady']\n",
      "topic13\n",
      "['camping', 'plastic', 'pack', 'set', 'tent', 'camp', 'bag', 'go', 'two', 'fire', 'put', 'get', 'sleeping', 'first', 'dinner']\n",
      "topic14\n",
      "['picnic', 'husband', 'decide', 'basket', 'get', 'nice', 'day', 'alex', 'blanket', 'park', 'going', 'fruit', 'potato', 'great', 'favorite']\n",
      "topic15\n",
      "['envelope', 'address', 'stamp', 'would', 'put', 'mailbox', 'seal', 'post', 'place', 'make', 'steve', 'name', 'office', 'take', 'could']\n",
      "topic16\n",
      "['doctor', 'check', 'go', 'blood', 'wait', 'one', 'bag', 'weight', 'take', 'pressure', 'pass', 'wound', 'boarding', 'nurse', 'part']\n",
      "topic17\n",
      "['know', 'cindy', 'going', 'take', 'time', 'things', 'like', 'line', 'lot', 'seats', 'ha', 'love', 'keep', 'along', 'around']\n",
      "topic18\n",
      "['us', 'order', 'come', 'waitress', 'go', 'back', 'two', 'husband', 'minutes', 'decide', 'ten', 'bring', 'wife', 'tell', 'take']\n",
      "topic19\n",
      "['pretty', 'piece', 'around', 'get', 'friend', 'need', 'fun', 'small', 'lot', 'right', 'weekend', 'usually', 'going', 'nice', 'start']\n",
      "topic20\n",
      "['painting', 'band', 'aid', 'hang', 'would', 'mark', 'get', 'finger', 'look', 'place', 'sure', 'make', 'put', 'cut', 'go']\n",
      "topic21\n",
      "['wash', 'put', 'bath', 'tub', 'laundry', 'water', 'clothes', 'dry', 'dirty', 'washing', 'load', 'take', 'bubble', 'finish', 'clean']\n",
      "topic22\n",
      "['pasta', 'minutes', 'sauce', 'add', 'let', 'put', 'get', 'cook', 'boil', 'heat', 'ready', 'need', 'make', 'also', 'first']\n",
      "topic23\n",
      "['table', 'mom', 'place', 'put', 'dinner', 'get', 'top', 'dishwasher', 'family', 'kitchen', 'glasses', 'plate', 'cup', 'dining', 'next']\n",
      "topic24\n",
      "['sponge', 'shower', 'scrub', 'sink', 'side', 'rinse', 'water', 'remove', 'band-aid', 'use', 'head', 'way', 'next', 'let', 'everything']\n",
      "topic25\n",
      "['night', 'get', 'tire', 'take', 'fall', 'last', 'little', 'asleep', 'new', 'week', 'sleep', 'back', 'bit', 'room', 'way']\n",
      "topic26\n",
      "['water', 'shower', 'get', 'soap', 'rinse', 'towel', 'body', 'turn', 'hot', 'take', 'dry', 'bucket', 'warm', 'start', 'clean']\n",
      "topic27\n",
      "['light', 'bulb', 'switch', 'back', 'one', 'turn', 'new', 'go', 'make', 'lamp', 'old', 'sure', 'screw', 'get', 'ladder']\n",
      "topic28\n",
      "['breakfast', 'eggs', 'bacon', 'morning', 'cook', 'make', 'toast', 'flip', 'wake', 'cheese', 'slice', 'butter', 'cooking', 'eat', 'place']\n",
      "topic29\n",
      "['beach', 'water', 'pack', 'go', 'towel', 'sand', 'get', 'bring', 'ocean', 'take', 'park', 'day', 'sun', 'could', 'umbrella']\n",
      "topic30\n",
      "['check', 'airport', 'plane', 'line', 'go', 'security', 'get', 'make', 'gate', 'flight', 'time', 'take', 'put', 'sure', 'pass']\n",
      "topic31\n",
      "['pay', 'bill', 'month', 'check', 'payment', 'money', 'one', 'company', 'account', 'get', 'credit', 'water', 'write', 'card', 'mail']\n",
      "topic32\n",
      "['flight', 'trip', 'go', 'ticket', 'want', 'plane', 'vacation', 'airport', 'fly', 'decide', 'airline', 'day', 'time', 'florida', 'need']\n",
      "topic33\n",
      "['pan', 'eggs', 'milk', 'egg', 'heat', 'stove', 'turn', 'make', 'add', 'pour', 'cook', 'get', 'omelette', 'put', 'bowl']\n",
      "topic34\n",
      "['water', 'pot', 'stove', 'place', 'pour', 'heat', 'turn', 'minutes', 'put', 'fill', 'boiling', 'pasta', 'boil', 'noodle', 'get']\n",
      "topic35\n",
      "['fish', 'food', 'tank', 'top', 'see', 'water', 'eat', 'small', 'feed', 'go', 'could', 'container', 'give', 'pond', 'take']\n",
      "topic36\n",
      "['garden', 'go', 'plant', 'work', 'want', 'grow', 'get', 'since', 'good', 'day', 'decide', 'one', 'make', 'place', 'finally']\n",
      "topic37\n",
      "['movie', 'watch', 'theater', 'go', 'dvd', 'want', 'decide', 'get', 'popcorn', 'rent', 'ticket', 'player', 'pick', 'tv', 'home']\n",
      "topic38\n",
      "['clothes', 'fold', 'put', 'clothing', 'sock', 'shirt', 'pants', 'laundry', 'folding', 'pair', 'pile', 'first', 'take', 'together', 'top']\n",
      "topic39\n",
      "['floor', 'clean', 'mop', 'cleaner', 'toilet', 'bathroom', 'use', 'sweep', 'cleaning', 'dust', 'wipe', 'get', 'first', 'make', 'around']\n",
      "topic40\n",
      "['bag', 'garbage', 'trash', 'take', 'open', 'top', 'pull', 'full', 'place', 'close', 'put', 'new', 'kitchen', 'grab', 'tie']\n",
      "topic41\n",
      "['orange', 'juice', 'bottle', 'fresh', 'juicer', 'get', 'make', 'drink', 'squeeze', 'put', 'half', 'formula', 'cut', 'go', 'hold']\n",
      "topic42\n",
      "['funeral', 'camera', 'take', 'photo', 'picture', 'family', 'make', 'photograph', 'sad', 'look', 'front', 'people', 'friend', 'stand', 'us']\n",
      "topic43\n",
      "['shoes', 'bowling', 'go', 'get', 'game', 'ball', 'alley', 'friend', 'lane', 'would', 'pin', 'us', 'size', 'one', 'put']\n",
      "topic44\n",
      "['sauna', 'steak', 'relax', 'go', 'back', 'bring', 'steam', 'hot', 'order', 'would', 'could', 'take', 'minutes', 'room', 'felt']\n",
      "topic45\n",
      "['play', 'tennis', 'ball', 'game', 'court', 'playing', 'hit', 'go', 'friend', 'back', 'get', 'point', 'time', 'decide', 'serve']\n",
      "topic46\n",
      "['baby', 'diaper', 'change', 'wipe', 'put', 'clean', 'take', 'back', 'get', 'would', 'sure', 'crying', 'need', 'make', 'go']\n",
      "topic47\n",
      "['book', 'read', 'found', 'library', 'go', 'reading', 'card', 'look', 'want', 'like', 'check', 'take', 'bring', 'get', 'desk']\n",
      "topic48\n",
      "['go', 'row', 'see', 'one', 'get', 'day', 'return', 'front', 'start', 'find', 'keep', 'decide', 'able', 'times', 'look']\n",
      "topic49\n",
      "['picture', 'take', 'online', 'look', 'want', 'get', 'information', 'could', 'go', 'like', 'price', 'see', 'decide', 'good', 'card']\n",
      "topic50\n",
      "['back', 'kid', 'inside', 'get', 'end', 'tie', 'bag', 'around', 'man', 'put', 'mom', 'well', 'outside', 'keep', 'exercise']\n",
      "topic51\n",
      "['coffee', 'filter', 'water', 'make', 'maker', 'cup', 'put', 'pour', 'grounds', 'machine', 'pot', 'take', 'morning', 'go', 'hot']\n",
      "topic52\n",
      "['trip', 'pack', 'suitcase', 'need', 'go', 'take', 'get', 'day', 'everything', 'bring', 'vacation', 'arrive', 'things', 'going', 'prepare']\n",
      "topic53\n",
      "['pool', 'towel', 'swimming', 'go', 'day', 'get', 'put', 'lightbulb', 'water', 'sunscreen', 'swim', 'walk', 'hot', 'suit', 'snack']\n",
      "topic54\n",
      "['food', 'cat', 'order', 'eat', 'get', 'restaurant', 'take', 'go', 'fast', 'place', 'give', 'feed', 'water', 'day', 'burger']\n",
      "topic55\n",
      "['hair', 'shampoo', 'conditioner', 'get', 'cut', 'wash', 'head', 'back', 'dry', 'make', 'haircut', 'rinse', 'time', 'chair', 'use']\n",
      "topic56\n",
      "['clean', 'cleaning', 'sink', 'put', 'bathroom', 'spray', 'back', 'dirty', 'go', 'take', 'brush', 'scrub', 'away', 'left', 'make']\n",
      "topic57\n",
      "['tree', 'paint', 'want', 'hole', 'would', 'get', 'large', 'newspaper', 'like', 'start', 'roller', 'fill', 'house', 'look', 'sure']\n",
      "topic58\n",
      "['vegetable', 'chop', 'cut', 'cutting', 'knife', 'onion', 'board', 'get', 'make', 'piece', 'put', 'carrot', 'salad', 'first', 'slice']\n",
      "topic59\n",
      "['felt', 'last', 'really', 'time', 'take', 'enjoy', 'get', 'would', 'experience', 'great', 'better', 'everything', 'good', 'want', 'start']\n",
      "topic60\n"
     ]
    },
    {
     "name": "stdout",
     "output_type": "stream",
     "text": [
      "['cake', 'oven', 'mix', 'bake', 'ingredient', 'baking', 'pan', 'put', 'make', 'need', 'chocolate', 'get', 'frosting', 'recipe', 'bowl']\n",
      "topic61\n",
      "['wedding', 'bride', 'groom', 'ceremony', 'church', 'married', 'aisle', 'everyone', 'take', 'dress', 'couple', 'carrot', 'reception', 'exchange', 'walk']\n",
      "topic62\n",
      "['button', 'one', 'push', 'miss', 'like', 'find', 'hit', 'search', 'want', 'open', 'get', 'end', 'times', 'would', 'item']\n",
      "topic63\n",
      "['show', 'job', 'get', 'make', 'interview', 'way', 'downtown', 'beautiful', 'take', 'since', 'making', 'camera', 'schedule', 'decide', 'right']\n",
      "topic64\n",
      "['museum', 'go', 'exhibit', 'walk', 'could', 'dinosaur', 'saw', 'ticket', 'wait', 'see', 'room', 'old', 'brother', 'dad', 'mom']\n",
      "topic65\n",
      "['would', 'reservation', 'want', 'restaurant', 'make', 'ask', 'dinner', 'thought', 'could', 'time', 'available', 'return', 'like', 'decide', 'number']\n",
      "topic66\n",
      "['machine', 'vending', 'chips', 'snack', 'money', 'dollar', 'buy', 'get', 'candy', 'want', 'decide', 'store', 'put', 'found', 'go']\n",
      "topic67\n",
      "['bowl', 'things', 'cat', 'food', 'ha', 'like', 'back', 'store', 'fresh', 'go', 'time', 'pet', 'place', 'scoop', 'big']\n",
      "topic68\n",
      "['clean', 'use', 'shower', 'time', 'process', 'wall', 'cleaner', 'easy', 'put', 'dry', 'spray', 'first', 'one', 'scrub', 'cleaning']\n",
      "topic69\n",
      "['car', 'drive', 'turn', 'put', 'get', 'key', 'back', 'make', 'sure', 'drove', 'parking', 'road', 'right', 'park', 'side']\n",
      "topic70\n",
      "['walk', 'door', 'get', 'home', 'go', 'leash', 'around', 'open', 'back', 'walking', 'outside', 'front', 'start', 'saw', 'house']\n",
      "topic71\n",
      "['clothes', 'machine', 'laundry', 'put', 'washing', 'dryer', 'washer', 'basket', 'detergent', 'wash', 'dirty', 'start', 'take', 'dry', 'add']\n",
      "topic72\n",
      "['tea', 'water', 'cup', 'mug', 'put', 'kettle', 'bag', 'hot', 'make', 'take', 'drink', 'pour', 'teabag', 'minutes', 'get']\n",
      "topic73\n",
      "['fish', 'oil', 'put', 'piece', 'cook', 'good', 'pan', 'make', 'one', 'time', 'also', 'take', 'little', 'doe', 'buy']\n",
      "topic74\n",
      "['look', 'sit', 'nice', 'make', 'good', 'get', 'table', 'decide', 'one', 'sure', 'want', 'time', 'grab', 'set', 'put']\n",
      "topic75\n",
      "['tire', 'thread', 'button', 'needle', 'bike', 'shirt', 'back', 'tube', 'hole', 'put', 'air', 'one', 'sew', 'bicycle', 'use']\n",
      "topic76\n",
      "['train', 'station', 'ticket', 'get', 'take', 'york', 'new', 'walk', 'arrive', 'city', 'car', 'stop', 'seat', 'ride', 'come']\n",
      "topic77\n",
      "['barbecue', 'make', 'everyone', 'decide', 'people', 'well', 'choice', 'cup', 'day', 'like', 'start', 'meat', 'enjoy', 'cook', 'good']\n",
      "topic78\n",
      "['box', 'toy', 'paper', 'put', 'gift', 'tape', 'wrapping', 'wrap', 'fold', 'piece', 'side', 'make', 'top', 'one', 'around']\n",
      "topic79\n",
      "['salmon', 'get', 'go', 'work', 'minutes', 'back', 'underground', 'slow', 'crowd', 'let', 'subway', 'salad', 'pull', 'put', 'five']\n",
      "topic80\n",
      "['fire', 'wood', 'start', 'dry', 'go', 'get', 'small', 'piece', 'log', 'house', 'use', 'bonfire', 'could', 'stick', 'warm']\n",
      "topic81\n",
      "['paper', 'store', 'gift', 'buy', 'go', 'get', 'birthday', 'home', 'grocery', 'present', 'shop', 'wrap', 'purchase', 'need', 'wrapping']\n",
      "topic82\n",
      "['bed', 'sheet', 'pillow', 'put', 'blanket', 'make', 'top', 'take', 'corner', 'tuck', 'fit', 'place', 'mattress', 'pull', 'side']\n",
      "topic83\n",
      "['letter', 'write', 'envelope', 'mail', 'address', 'put', 'stamp', 'friend', 'pen', 'corner', 'life', 'writing', 'paper', 'top', 'right']\n",
      "topic84\n",
      "['driving', 'lesson', 'instructor', 'go', 'get', 'learn', 'take', 'nervous', 'car', 'park', 'start', 'really', 'driver', 'drive', 'time']\n",
      "topic85\n",
      "['mother', 'grandmother', 'billy', 'table', 'get', 'dinner', 'time', 'sister', 'come', 'together', 'flower', 'hold', 'ready', 'special', 'going']\n",
      "topic86\n",
      "['list', 'shopping', 'store', 'need', 'item', 'grocery', 'go', 'things', 'get', 'make', 'cart', 'week', 'put', 'check', 'buy']\n",
      "topic87\n",
      "['driver', 'taxi', 'bus', 'get', 'stop', 'take', 'minutes', 'street', 'cab', 'pay', 'arrive', 'wait', 'need', 'destination', 'people']\n",
      "topic88\n",
      "['pizza', 'order', 'minutes', 'decide', 'would', 'tell', 'want', 'give', 'delivery', 'phone', 'call', 'tip', 'get', 'ask', 'pay']\n",
      "topic89\n",
      "['book', 'library', 'card', 'librarian', 'borrow', 'need', 'back', 'ask', 'scan', 'research', 'would', 'looking', 'hand', 'tell', 'due']\n",
      "topic90\n",
      "['wall', 'room', 'new', 'paint', 'floor', 'look', 'decide', 'want', 'house', 'put', 'buy', 'color', 'get', 'painting', 'flooring']\n",
      "topic91\n",
      "['would', 'plane', 'get', 'seat', 'ticket', 'could', 'time', 'take', 'found', 'us', 'grill', 'window', 'day', 'hours', 'airport']\n",
      "topic92\n",
      "['friend', 'dance', 'go', 'drink', 'time', 'arrive', 'dancing', 'great', 'fun', 'decide', 'night', 'one', 'music', 'people', 'good']\n",
      "topic93\n",
      "['go', 'get', 'visit', 'house', 'talk', 'home', 'see', 'sister', 'time', 'family', 'cousin', 'going', 'around', 'excite', 'week']\n",
      "topic94\n",
      "['party', 'invitation', 'invite', 'birthday', 'friend', 'people', 'go', 'store', 'would', 'list', 'want', 'buy', 'envelope', 'get', 'decide']\n",
      "topic95\n",
      "['vacuum', 'carpet', 'closet', 'get', 'room', 'plug', 'back', 'sure', 'make', 'house', 'cord', 'furniture', 'move', 'turn', 'living']\n",
      "topic96\n",
      "['iron', 'ironing', 'shirt', 'board', 'pants', 'wrinkle', 'get', 'clothes', 'put', 'heat', 'take', 'set', 'steam', 'need', 'place']\n",
      "topic97\n",
      "['family', 'date', 'go', 'people', 'nice', 'would', 'person', 'like', 'see', 'time', 'take', 'one', 'know', 'good', 'drove']\n",
      "topic98\n",
      "['make', 'would', 'time', 'jenny', 'restaurant', 'day', 'next', 'want', 'weekend', 'decide', 'live', 'problem', 'call', 'one', 'way']\n",
      "topic99\n",
      "['lawn', 'mower', 'mow', 'grass', 'yard', 'start', 'gas', 'back', 'pull', 'put', 'go', 'turn', 'cut', 'push', 'shed']\n",
      "topic100\n",
      "['room', 'appointment', 'call', 'dentist', 'doctor', 'office', 'come', 'tell', 'teeth', 'name', 'receptionist', 'go', 'back', 'check', 'make']\n",
      "topic101\n",
      "['medicine', 'child', 'take', 'go', 'bottle', 'get', 'cup', 'need', 'put', 'make', 'back', 'water', 'feel', 'sleep', 'give']\n",
      "topic102\n",
      "['phone', 'call', 'tell', 'say', 'ask', 'answer', '911', 'help', 'talk', 'number', 'could', 'hear', 'house', 'police', 'cell']\n",
      "topic103\n",
      "['battery', 'clock', 'alarm', 'back', 'time', 'go', 'work', 'one', 'take', 'store', 'morning', 'set', 'change', 'two', 'old']\n",
      "topic104\n",
      "['bonfire', 'make', 'fire', 'start', 'around', 'gather', 'burn', 'friend', 'rock', 'catch', 'go', 'pit', 'would', 'place', 'lighter']\n",
      "topic105\n",
      "['bus', 'get', 'ride', 'take', 'stop', 'always', 'work', 'time', 'need', 'school', 'near', 'public', 'would', 'walk', 'driver']\n",
      "topic106\n",
      "['plant', 'tree', 'hole', 'water', 'garden', 'seed', 'would', 'soil', 'roots', 'make', 'dirt', 'grow', 'back', 'dug', 'place']\n",
      "topic107\n",
      "['tell', 'ask', 'say', 'take', 'get', 'minutes', 'come', 'make', 'would', 'drove', 'time', 'left', 'wait', 'go', 'want']\n",
      "topic108\n",
      "['make', 'sure', 'would', 'also', 'enough', 'go', 'big', 'come', 'mom', 'pick', 'want', 'days', 'brother', 'put', 'different']\n",
      "topic109\n",
      "['stove', 'pasta', 'boil', 'turn', 'heat', 'flame', 'boiling', 'start', 'pot', 'meat', 'bubble', 'cook', 'meal', 'first', 'want']\n"
     ]
    }
   ],
   "source": [
    "# top words for each topic\n",
    "for topic in model_artm.score_tracker[\"top_words\"].last_tokens:\n",
    "    print(topic)\n",
    "    print(model_artm.score_tracker[\"top_words\"].last_tokens[topic])"
   ]
  },
  {
   "cell_type": "code",
   "execution_count": 164,
   "metadata": {
    "collapsed": true
   },
   "outputs": [],
   "source": [
    "# saving the model\n",
    "model_artm.save(\"model_1\")"
   ]
  },
  {
   "cell_type": "code",
   "execution_count": 165,
   "metadata": {},
   "outputs": [
    {
     "data": {
      "text/html": [
       "<div>\n",
       "<style>\n",
       "    .dataframe thead tr:only-child th {\n",
       "        text-align: right;\n",
       "    }\n",
       "\n",
       "    .dataframe thead th {\n",
       "        text-align: left;\n",
       "    }\n",
       "\n",
       "    .dataframe tbody tr th {\n",
       "        vertical-align: top;\n",
       "    }\n",
       "</style>\n",
       "<table border=\"1\" class=\"dataframe\">\n",
       "  <thead>\n",
       "    <tr style=\"text-align: right;\">\n",
       "      <th></th>\n",
       "      <th>Probability</th>\n",
       "    </tr>\n",
       "  </thead>\n",
       "  <tbody>\n",
       "    <tr>\n",
       "      <th>topic33</th>\n",
       "      <td>0.022541</td>\n",
       "    </tr>\n",
       "    <tr>\n",
       "      <th>topic90</th>\n",
       "      <td>0.020207</td>\n",
       "    </tr>\n",
       "    <tr>\n",
       "      <th>topic26</th>\n",
       "      <td>0.020067</td>\n",
       "    </tr>\n",
       "    <tr>\n",
       "      <th>topic82</th>\n",
       "      <td>0.016940</td>\n",
       "    </tr>\n",
       "    <tr>\n",
       "      <th>topic37</th>\n",
       "      <td>0.016566</td>\n",
       "    </tr>\n",
       "    <tr>\n",
       "      <th>topic39</th>\n",
       "      <td>0.015212</td>\n",
       "    </tr>\n",
       "    <tr>\n",
       "      <th>topic1</th>\n",
       "      <td>0.015137</td>\n",
       "    </tr>\n",
       "    <tr>\n",
       "      <th>topic102</th>\n",
       "      <td>0.014618</td>\n",
       "    </tr>\n",
       "    <tr>\n",
       "      <th>topic71</th>\n",
       "      <td>0.014081</td>\n",
       "    </tr>\n",
       "    <tr>\n",
       "      <th>topic83</th>\n",
       "      <td>0.013499</td>\n",
       "    </tr>\n",
       "    <tr>\n",
       "      <th>topic54</th>\n",
       "      <td>0.013263</td>\n",
       "    </tr>\n",
       "    <tr>\n",
       "      <th>topic86</th>\n",
       "      <td>0.013113</td>\n",
       "    </tr>\n",
       "    <tr>\n",
       "      <th>topic55</th>\n",
       "      <td>0.013035</td>\n",
       "    </tr>\n",
       "    <tr>\n",
       "      <th>topic69</th>\n",
       "      <td>0.012581</td>\n",
       "    </tr>\n",
       "    <tr>\n",
       "      <th>topic70</th>\n",
       "      <td>0.012306</td>\n",
       "    </tr>\n",
       "    <tr>\n",
       "      <th>topic93</th>\n",
       "      <td>0.012295</td>\n",
       "    </tr>\n",
       "    <tr>\n",
       "      <th>topic32</th>\n",
       "      <td>0.012219</td>\n",
       "    </tr>\n",
       "    <tr>\n",
       "      <th>topic92</th>\n",
       "      <td>0.012175</td>\n",
       "    </tr>\n",
       "    <tr>\n",
       "      <th>topic23</th>\n",
       "      <td>0.011674</td>\n",
       "    </tr>\n",
       "    <tr>\n",
       "      <th>topic75</th>\n",
       "      <td>0.011569</td>\n",
       "    </tr>\n",
       "    <tr>\n",
       "      <th>topic21</th>\n",
       "      <td>0.011393</td>\n",
       "    </tr>\n",
       "    <tr>\n",
       "      <th>topic100</th>\n",
       "      <td>0.011324</td>\n",
       "    </tr>\n",
       "    <tr>\n",
       "      <th>topic76</th>\n",
       "      <td>0.011138</td>\n",
       "    </tr>\n",
       "    <tr>\n",
       "      <th>topic38</th>\n",
       "      <td>0.011104</td>\n",
       "    </tr>\n",
       "    <tr>\n",
       "      <th>topic87</th>\n",
       "      <td>0.010896</td>\n",
       "    </tr>\n",
       "    <tr>\n",
       "      <th>topic78</th>\n",
       "      <td>0.010724</td>\n",
       "    </tr>\n",
       "    <tr>\n",
       "      <th>topic65</th>\n",
       "      <td>0.010703</td>\n",
       "    </tr>\n",
       "    <tr>\n",
       "      <th>topic94</th>\n",
       "      <td>0.010635</td>\n",
       "    </tr>\n",
       "    <tr>\n",
       "      <th>topic40</th>\n",
       "      <td>0.010562</td>\n",
       "    </tr>\n",
       "    <tr>\n",
       "      <th>topic46</th>\n",
       "      <td>0.010520</td>\n",
       "    </tr>\n",
       "    <tr>\n",
       "      <th>...</th>\n",
       "      <td>...</td>\n",
       "    </tr>\n",
       "    <tr>\n",
       "      <th>topic9</th>\n",
       "      <td>0.006617</td>\n",
       "    </tr>\n",
       "    <tr>\n",
       "      <th>topic10</th>\n",
       "      <td>0.006603</td>\n",
       "    </tr>\n",
       "    <tr>\n",
       "      <th>topic13</th>\n",
       "      <td>0.006228</td>\n",
       "    </tr>\n",
       "    <tr>\n",
       "      <th>topic73</th>\n",
       "      <td>0.006225</td>\n",
       "    </tr>\n",
       "    <tr>\n",
       "      <th>topic25</th>\n",
       "      <td>0.006197</td>\n",
       "    </tr>\n",
       "    <tr>\n",
       "      <th>topic48</th>\n",
       "      <td>0.006187</td>\n",
       "    </tr>\n",
       "    <tr>\n",
       "      <th>topic12</th>\n",
       "      <td>0.006157</td>\n",
       "    </tr>\n",
       "    <tr>\n",
       "      <th>topic104</th>\n",
       "      <td>0.006150</td>\n",
       "    </tr>\n",
       "    <tr>\n",
       "      <th>topic67</th>\n",
       "      <td>0.006119</td>\n",
       "    </tr>\n",
       "    <tr>\n",
       "      <th>topic89</th>\n",
       "      <td>0.006104</td>\n",
       "    </tr>\n",
       "    <tr>\n",
       "      <th>topic57</th>\n",
       "      <td>0.005863</td>\n",
       "    </tr>\n",
       "    <tr>\n",
       "      <th>topic80</th>\n",
       "      <td>0.005818</td>\n",
       "    </tr>\n",
       "    <tr>\n",
       "      <th>topic63</th>\n",
       "      <td>0.005801</td>\n",
       "    </tr>\n",
       "    <tr>\n",
       "      <th>topic77</th>\n",
       "      <td>0.005563</td>\n",
       "    </tr>\n",
       "    <tr>\n",
       "      <th>topic98</th>\n",
       "      <td>0.005523</td>\n",
       "    </tr>\n",
       "    <tr>\n",
       "      <th>topic14</th>\n",
       "      <td>0.005507</td>\n",
       "    </tr>\n",
       "    <tr>\n",
       "      <th>topic11</th>\n",
       "      <td>0.005453</td>\n",
       "    </tr>\n",
       "    <tr>\n",
       "      <th>topic91</th>\n",
       "      <td>0.005396</td>\n",
       "    </tr>\n",
       "    <tr>\n",
       "      <th>topic36</th>\n",
       "      <td>0.005346</td>\n",
       "    </tr>\n",
       "    <tr>\n",
       "      <th>topic61</th>\n",
       "      <td>0.005333</td>\n",
       "    </tr>\n",
       "    <tr>\n",
       "      <th>topic16</th>\n",
       "      <td>0.005004</td>\n",
       "    </tr>\n",
       "    <tr>\n",
       "      <th>topic85</th>\n",
       "      <td>0.004963</td>\n",
       "    </tr>\n",
       "    <tr>\n",
       "      <th>topic15</th>\n",
       "      <td>0.004853</td>\n",
       "    </tr>\n",
       "    <tr>\n",
       "      <th>topic6</th>\n",
       "      <td>0.004777</td>\n",
       "    </tr>\n",
       "    <tr>\n",
       "      <th>topic79</th>\n",
       "      <td>0.004523</td>\n",
       "    </tr>\n",
       "    <tr>\n",
       "      <th>topic3</th>\n",
       "      <td>0.004503</td>\n",
       "    </tr>\n",
       "    <tr>\n",
       "      <th>topic4</th>\n",
       "      <td>0.004216</td>\n",
       "    </tr>\n",
       "    <tr>\n",
       "      <th>topic50</th>\n",
       "      <td>0.004185</td>\n",
       "    </tr>\n",
       "    <tr>\n",
       "      <th>topic19</th>\n",
       "      <td>0.004081</td>\n",
       "    </tr>\n",
       "    <tr>\n",
       "      <th>topic17</th>\n",
       "      <td>0.003625</td>\n",
       "    </tr>\n",
       "  </tbody>\n",
       "</table>\n",
       "<p>110 rows × 1 columns</p>\n",
       "</div>"
      ],
      "text/plain": [
       "          Probability\n",
       "topic33      0.022541\n",
       "topic90      0.020207\n",
       "topic26      0.020067\n",
       "topic82      0.016940\n",
       "topic37      0.016566\n",
       "topic39      0.015212\n",
       "topic1       0.015137\n",
       "topic102     0.014618\n",
       "topic71      0.014081\n",
       "topic83      0.013499\n",
       "topic54      0.013263\n",
       "topic86      0.013113\n",
       "topic55      0.013035\n",
       "topic69      0.012581\n",
       "topic70      0.012306\n",
       "topic93      0.012295\n",
       "topic32      0.012219\n",
       "topic92      0.012175\n",
       "topic23      0.011674\n",
       "topic75      0.011569\n",
       "topic21      0.011393\n",
       "topic100     0.011324\n",
       "topic76      0.011138\n",
       "topic38      0.011104\n",
       "topic87      0.010896\n",
       "topic78      0.010724\n",
       "topic65      0.010703\n",
       "topic94      0.010635\n",
       "topic40      0.010562\n",
       "topic46      0.010520\n",
       "...               ...\n",
       "topic9       0.006617\n",
       "topic10      0.006603\n",
       "topic13      0.006228\n",
       "topic73      0.006225\n",
       "topic25      0.006197\n",
       "topic48      0.006187\n",
       "topic12      0.006157\n",
       "topic104     0.006150\n",
       "topic67      0.006119\n",
       "topic89      0.006104\n",
       "topic57      0.005863\n",
       "topic80      0.005818\n",
       "topic63      0.005801\n",
       "topic77      0.005563\n",
       "topic98      0.005523\n",
       "topic14      0.005507\n",
       "topic11      0.005453\n",
       "topic91      0.005396\n",
       "topic36      0.005346\n",
       "topic61      0.005333\n",
       "topic16      0.005004\n",
       "topic85      0.004963\n",
       "topic15      0.004853\n",
       "topic6       0.004777\n",
       "topic79      0.004523\n",
       "topic3       0.004503\n",
       "topic4       0.004216\n",
       "topic50      0.004185\n",
       "topic19      0.004081\n",
       "topic17      0.003625\n",
       "\n",
       "[110 rows x 1 columns]"
      ]
     },
     "execution_count": 165,
     "metadata": {},
     "output_type": "execute_result"
    }
   ],
   "source": [
    "topic_probabilities = []\n",
    "for i, topic in enumerate(model_artm.topic_names):\n",
    "    topic_probabilities.append(sum(theta.as_matrix()[i])/len(theta.as_matrix()[i]))\n",
    "\n",
    "probability_df = pd.DataFrame(columns=[\"Probability\"], index=model_artm.topic_names, data=topic_probabilities)\n",
    "probability_df.sort_values(\"Probability\", ascending=False)"
   ]
  },
  {
   "cell_type": "markdown",
   "metadata": {},
   "source": [
    "We can see here that __topic4__ has the biggest probability across all documents, especially compared to all others: around 69%. From top tokens, contained in this topic, we see that it's a topic with commonly used verbs and other parts of speech. Other similar topics include __topic0__ and __topic10__. Therefore, I can try to take the next best possibility for each document, disregarding the one for these three topics."
   ]
  },
  {
   "cell_type": "code",
   "execution_count": 166,
   "metadata": {
    "collapsed": true
   },
   "outputs": [],
   "source": [
    "def get_text_by_id(text_id, data):\n",
    "    text = {}\n",
    "    for instance in data:\n",
    "        if instance['text_id'] == text_id:\n",
    "            text['text_id'] = text_id\n",
    "            text['text'] = instance['text']\n",
    "            break\n",
    "    return text"
   ]
  },
  {
   "cell_type": "code",
   "execution_count": 167,
   "metadata": {
    "collapsed": true
   },
   "outputs": [],
   "source": [
    "#mapping to separate data-s\n",
    "train_topic2docs = {}\n",
    "dev_topic2docs = {}\n",
    "test_topic2docs = {}\n",
    "for col in theta.columns:\n",
    "    max_proba = max(theta.loc[:,col])\n",
    "    best_topic = theta.loc[theta[col] == max_proba].index\n",
    "    if 'train' in col:\n",
    "        current_text = get_text_by_id(col[5:], train_data)\n",
    "        if best_topic[0] not in train_topic2docs:\n",
    "            train_topic2docs[best_topic[0]] = []\n",
    "            train_topic2docs[best_topic[0]].append(current_text)\n",
    "        else:\n",
    "            train_topic2docs[best_topic[0]].append(current_text)\n",
    "    elif 'dev' in col:\n",
    "        current_text = get_text_by_id(col[3:], dev_data)\n",
    "        if best_topic[0] not in dev_topic2docs:\n",
    "            dev_topic2docs[best_topic[0]] = []\n",
    "            dev_topic2docs[best_topic[0]].append(current_text)\n",
    "        else:\n",
    "            dev_topic2docs[best_topic[0]].append(current_text)\n",
    "    elif 'test' in col:\n",
    "        current_text = get_text_by_id(col[4:], test_data)\n",
    "        if best_topic[0] not in test_topic2docs:\n",
    "            test_topic2docs[best_topic[0]] = []\n",
    "            test_topic2docs[best_topic[0]].append(current_text)\n",
    "        else:\n",
    "            test_topic2docs[best_topic[0]].append(current_text)"
   ]
  },
  {
   "cell_type": "code",
   "execution_count": 168,
   "metadata": {
    "collapsed": true,
    "scrolled": true
   },
   "outputs": [],
   "source": [
    "# mapping from topics to texts\n",
    "# {topic: [{text_id:text, ...}], topic: ...}\n",
    "topic2docs = {}\n",
    "for col in theta.columns:\n",
    "    max_proba = max(theta.loc[:,col])\n",
    "    best_topic = theta.loc[theta[col] == max_proba].index\n",
    "    if best_topic[0] not in topic2docs:\n",
    "        topic2docs[best_topic[0]] = []\n",
    "        topic2docs[best_topic[0]].append(col)\n",
    "    else:\n",
    "        topic2docs[best_topic[0]].append(col)"
   ]
  },
  {
   "cell_type": "code",
   "execution_count": 169,
   "metadata": {},
   "outputs": [
    {
     "data": {
      "image/png": "[encoded data removed]",
      "text/plain": [
       "<matplotlib.figure.Figure at 0x1124a6518>"
      ]
     },
     "metadata": {},
     "output_type": "display_data"
    }
   ],
   "source": [
    "lens = [len(value) for value in topic2docs.values()]\n",
    "plt.barh([i for i in range(len(topic2docs.keys()))], lens)\n",
    "plt.savefig(\"fig_0.png\")"
   ]
  },
  {
   "cell_type": "markdown",
   "metadata": {},
   "source": [
    "Here is the new distribution for document per topic. __Topic7__ is prevalent but it's not as bad as before."
   ]
  },
  {
   "cell_type": "code",
   "execution_count": 170,
   "metadata": {},
   "outputs": [
    {
     "data": {
      "text/plain": [
       "<Container object of 106 artists>"
      ]
     },
     "execution_count": 170,
     "metadata": {},
     "output_type": "execute_result"
    },
    {
     "data": {
      "image/png": "[encoded data removed]",
      "text/plain": [
       "<matplotlib.figure.Figure at 0x11bc36a90>"
      ]
     },
     "metadata": {},
     "output_type": "display_data"
    }
   ],
   "source": [
    "lens = [len(value) for value in test_topic2docs.values()]\n",
    "keys = len(test_topic2docs.keys())\n",
    "plt.barh([i for i in range(keys)], lens, tick_label = test_topic2docs.keys())"
   ]
  },
  {
   "cell_type": "markdown",
   "metadata": {},
   "source": [
    "#### Choosing an answer given texts from the same cluster"
   ]
  },
  {
   "cell_type": "code",
   "execution_count": 171,
   "metadata": {
    "collapsed": true
   },
   "outputs": [],
   "source": [
    "# a method to choose answer from the original text AND from texts from the same cluster\n",
    "# answer as dictionary, original text as list of strings, similar_texts as one list of strings\n",
    "def choose_answer_v2(original_text, similar_texts, answers):\n",
    "    original_answer = choose_answer(original_text, answers)\n",
    "    #if we don't find the answer in the original text\n",
    "    if original_answer[1] == 0:\n",
    "        similar_answer = choose_answer(similar_texts, answers)\n",
    "        return similar_answer\n",
    "    else:\n",
    "        return original_answer"
   ]
  },
  {
   "cell_type": "code",
   "execution_count": 172,
   "metadata": {
    "collapsed": true
   },
   "outputs": [],
   "source": [
    "def get_topic_by_text_id(text_id, topic2docs):\n",
    "    for topic in topic2docs.keys():\n",
    "        for text in topic2docs[topic]:\n",
    "            if text['text_id'] == text_id:\n",
    "                return topic\n",
    "\n",
    "def get_topic_texts(topic, topic2docs):\n",
    "    texts_list = topic2docs[topic]\n",
    "    texts = []\n",
    "    for text in texts_list:\n",
    "        texts += text['text']\n",
    "    return texts"
   ]
  },
  {
   "cell_type": "code",
   "execution_count": 173,
   "metadata": {
    "collapsed": true
   },
   "outputs": [],
   "source": [
    "def run_v2(data, topic2docs, choose_answer_function):\n",
    "    results = []\n",
    "    for instance in data:\n",
    "        instance_topic = get_topic_by_text_id(instance['text_id'], topic2docs)\n",
    "        similar_texts = get_topic_texts(instance_topic, topic2docs)\n",
    "        for question in instance['questions']:\n",
    "            correct_answers = choose_answer_function(instance['text'], similar_texts, question['answers'])[0]\n",
    "            question_results = [instance['text_id'], question['question_id'], correct_answers]\n",
    "            results.append(question_results)\n",
    "    return results"
   ]
  },
  {
   "cell_type": "code",
   "execution_count": 174,
   "metadata": {},
   "outputs": [
    {
     "name": "stdout",
     "output_type": "stream",
     "text": [
      "BigARTM train accuracy: 61.5044702497174\n",
      "BigARTM dev accuracy: 61.09142452161588\n",
      "BigARTM test accuracy: 61.38720057204148\n"
     ]
    }
   ],
   "source": [
    "train_with_bigARTM = run_v2(train_data, train_topic2docs, choose_answer_v2)\n",
    "print(\"BigARTM train accuracy: \" + str(evaluate(train_with_bigARTM, gold_train)[0]))\n",
    "dev_with_bigARTM = run_v2(dev_data, dev_topic2docs, choose_answer_v2)\n",
    "print(\"BigARTM dev accuracy: \" + str(evaluate(dev_with_bigARTM, gold_dev)[0]))\n",
    "test_with_bigARTM = run_v2(test_data, test_topic2docs, choose_answer_v2)\n",
    "print(\"BigARTM test accuracy: \" + str(evaluate(test_with_bigARTM, gold_test)[0]))"
   ]
  },
  {
   "cell_type": "code",
   "execution_count": 194,
   "metadata": {},
   "outputs": [
    {
     "name": "stdout",
     "output_type": "stream",
     "text": [
      "First 10 incorrent answers: comparison with baseline\n",
      "[['7', '5', '1'], ['8', '2', '0'], ['8', '4', '0'], ['9', '0', '0'], ['10', '2', '0'], ['10', '3', '0'], ['10', '5', '0'], ['10', '7', '0'], ['11', '0', '0'], ['11', '1', '0']]\n",
      "[['8', '4', '0'], ['10', '2', '0'], ['10', '3', '0'], ['10', '5', '0'], ['10', '7', '0'], ['10', '8', '1'], ['11', '0', '0'], ['11', '1', '0'], ['11', '3', '0'], ['11', '4', '1']]\n"
     ]
    }
   ],
   "source": [
    "print(\"First 10 incorrent answers: comparison with baseline\")\n",
    "print(evaluate(run(test_data), gold_test)[1][30:40])\n",
    "print(evaluate(test_with_bigARTM, gold_test)[1][30:40])"
   ]
  },
  {
   "cell_type": "markdown",
   "metadata": {},
   "source": [
    "### Part 3. Answering Using Related Script Knowledge\n",
    "terminology: _topic-script_ is a topic section from DeScript, e.g. baking a cake, flying in an airplane\n",
    "- mapping text to topic-script\n",
    "- finding answer in the topic-script\n",
    "\n",
    "_IDEA_: doc similarity between topic-script and given text with Doc2Vec<br>\n",
    "_IDEA_: map text to a specific event from the scripts\n",
    "\n"
   ]
  },
  {
   "cell_type": "markdown",
   "metadata": {},
   "source": [
    "#### Defining Similarity Between Given Text and Topic-Script"
   ]
  },
  {
   "cell_type": "code",
   "execution_count": 177,
   "metadata": {
    "collapsed": true
   },
   "outputs": [],
   "source": [
    "# helper method - from tuples to dictionary\n",
    "def tuple_to_dict(some_list):\n",
    "    new_list = {}\n",
    "    for pair in some_list:\n",
    "        new_list[pair[0]] = pair[1]\n",
    "    return new_list"
   ]
  },
  {
   "cell_type": "code",
   "execution_count": 178,
   "metadata": {},
   "outputs": [],
   "source": [
    "# finding frequencies for topics and scaling them by number of documents\n",
    "topic_vectors = {}\n",
    "for topic in topics.keys():\n",
    "    topic_vectors[topic] = {}\n",
    "    meaningful_words = list(filter(lambda x: x not in stopwords, topics[topic]))\n",
    "    words = tuple_to_dict(nltk.FreqDist(meaningful_words).most_common(12))\n",
    "    \n",
    "    current_docs = topic_docs[topic]\n",
    "    for word in words:\n",
    "        number_of_docs = 0\n",
    "        for doc in current_docs:\n",
    "            if word in doc:\n",
    "                number_of_docs += 1\n",
    "        topic_vectors[topic][word] = words[word]/number_of_docs"
   ]
  },
  {
   "cell_type": "code",
   "execution_count": 179,
   "metadata": {
    "collapsed": true
   },
   "outputs": [],
   "source": [
    "#getting all texts and cleaning\n",
    "clean_all_texts = []\n",
    "for text in all_texts:\n",
    "    ind = text[0].index(\"|\")\n",
    "    clean_all_texts.append([text[0][ind+6:]])"
   ]
  },
  {
   "cell_type": "code",
   "execution_count": 180,
   "metadata": {
    "collapsed": true
   },
   "outputs": [],
   "source": [
    "#getting frequencies for words in all documents\n",
    "full_texts = []\n",
    "full_texts = np.append(full_texts, clean_all_texts)\n",
    "just_text = \" \".join(full_texts)\n",
    "words = nltk.tokenize.word_tokenize(just_text)\n",
    "fd = nltk.FreqDist(words)\n"
   ]
  },
  {
   "cell_type": "code",
   "execution_count": 181,
   "metadata": {
    "collapsed": true
   },
   "outputs": [],
   "source": [
    "# cleaning and finding frequencies for given text\n",
    "def get_text_vector(text):\n",
    "    meaningful_words = list(filter(lambda x: x not in stopwords, text))\n",
    "    text_vector = tuple_to_dict(nltk.FreqDist(meaningful_words).most_common(12))\n",
    "    for word, freq in text_vector.items():\n",
    "        if word in fd:\n",
    "            text_vector[word] = freq/(fd[word])\n",
    "    return text_vector"
   ]
  },
  {
   "cell_type": "code",
   "execution_count": 182,
   "metadata": {
    "collapsed": true
   },
   "outputs": [],
   "source": [
    "import math\n",
    "# cosine similarity function to compare two vectors with frequencies\n",
    "def cosine_similarity(topic_vector, text_vector):\n",
    "    \n",
    "    topic_sum = 0\n",
    "    text_sum = 0\n",
    "    dot_product = 0\n",
    "    \n",
    "    for word in topic_vector:\n",
    "        topic_sum += (topic_vector[word]**2)\n",
    "        if word in text_vector.keys():\n",
    "            text_sum += (text_vector[word]**2)\n",
    "            dot_product += (topic_vector[word] * text_vector[word])\n",
    "    topic_norm = math.sqrt(topic_sum)\n",
    "    text_norm = math.sqrt(text_sum)\n",
    "    \n",
    "    if topic_norm * text_norm == 0:\n",
    "        return 0\n",
    "    else:\n",
    "        return dot_product/(topic_norm * text_norm)"
   ]
  },
  {
   "cell_type": "code",
   "execution_count": 183,
   "metadata": {
    "collapsed": true
   },
   "outputs": [],
   "source": [
    "# returns most similar topic\n",
    "def get_topic(text, topic_vectors):\n",
    "    topic_scores = {}\n",
    "    for topic in topic_vectors.keys():\n",
    "        csim = cosine_similarity(topic_vectors[topic], get_text_vector(text))\n",
    "        topic_scores[topic] = csim\n",
    "    return max(topic_scores.items(), key=lambda k: k[1])"
   ]
  },
  {
   "cell_type": "markdown",
   "metadata": {},
   "source": [
    "#### Answering Using Topic-Scripts"
   ]
  },
  {
   "cell_type": "code",
   "execution_count": 184,
   "metadata": {
    "collapsed": true
   },
   "outputs": [],
   "source": [
    "def run_v3(data, topic_vectors, topics, choose_answer_function):\n",
    "    results = []\n",
    "    for instance in data:\n",
    "        for question in instance['questions']:\n",
    "            current_topic = get_topic(instance['text'], topic_vectors)[0]\n",
    "            correct_answer = choose_answer_function(instance['text'], topics[current_topic], question['answers'])[0]\n",
    "            results.append([instance['text_id'], question['question_id'], correct_answer])\n",
    "    return results"
   ]
  },
  {
   "cell_type": "code",
   "execution_count": 187,
   "metadata": {},
   "outputs": [
    {
     "name": "stdout",
     "output_type": "stream",
     "text": [
      "Descript accuracy train: 60.41516801973076\n",
      "Descript accuracy dev: 59.67399007795889\n",
      "Descript accuracy test: 61.67322130854487\n"
     ]
    }
   ],
   "source": [
    "des_train = run_v3(train_data, topic_vectors, topics, choose_answer_v2)\n",
    "print(\"Descript accuracy train: \" + str(evaluate(des_train, gold_train)[0]))\n",
    "des_dev = run_v3(dev_data, topic_vectors, topics, choose_answer_v2)\n",
    "print(\"Descript accuracy dev: \" + str(evaluate(des_dev, gold_dev)[0]))\n",
    "des_test = run_v3(test_data, topic_vectors, topics, choose_answer_v2)\n",
    "print(\"Descript accuracy test: \" + str(evaluate(des_test, gold_test)[0]))"
   ]
  },
  {
   "cell_type": "markdown",
   "metadata": {},
   "source": [
    "### Part 4. Clustering with Doc2Vec"
   ]
  },
  {
   "cell_type": "markdown",
   "metadata": {},
   "source": [
    "- part 1: embed texts with Doc2Vec\n",
    "- part 2: cluster embedded representations with KMeans (or other clustering methods)\n",
    "- part 3: cluster - texts mapping\n",
    "- part 4: choose answer, using a given text and texts from the same cluster\n",
    "\n",
    "_Inspired by_: https://towardsdatascience.com/automatic-topic-clustering-using-doc2vec-e1cea88449c"
   ]
  },
  {
   "cell_type": "markdown",
   "metadata": {},
   "source": [
    "#### Training Doc2Vec and Inferring Vectors for all Texts"
   ]
  },
  {
   "cell_type": "code",
   "execution_count": 208,
   "metadata": {},
   "outputs": [],
   "source": [
    "import gensim\n",
    "from gensim.models.doc2vec import TaggedDocument, Doc2Vec"
   ]
  },
  {
   "cell_type": "code",
   "execution_count": 279,
   "metadata": {},
   "outputs": [],
   "source": [
    "data = []\n",
    "for t in clean_all_texts:\n",
    "    data.append(nltk.tokenize.word_tokenize(t[0]))"
   ]
  },
  {
   "cell_type": "code",
   "execution_count": 280,
   "metadata": {
    "collapsed": true
   },
   "outputs": [],
   "source": [
    "additional_texts_from_descript = []\n",
    "for topic in topics:\n",
    "    l = len(topics[topic])\n",
    "    data.append(topics[topic][:int(l/3)])\n",
    "    data.append(topics[topic][int(l/3):int(l-(l/3))])\n",
    "    data.append(topics[topic][int(l-(l/3)):])\n"
   ]
  },
  {
   "cell_type": "code",
   "execution_count": 246,
   "metadata": {
    "collapsed": true
   },
   "outputs": [],
   "source": [
    "class Documents(object):\n",
    "    def __init__(self, documents):\n",
    "        self.documents = documents\n",
    "\n",
    "    def __iter__(self):\n",
    "        for i, doc in enumerate(self.documents):\n",
    "            yield TaggedDocument(words = doc, tags = [i])"
   ]
  },
  {
   "cell_type": "code",
   "execution_count": 281,
   "metadata": {
    "collapsed": true
   },
   "outputs": [],
   "source": [
    "documents = Documents(data)"
   ]
  },
  {
   "cell_type": "code",
   "execution_count": 282,
   "metadata": {},
   "outputs": [
    {
     "name": "stdout",
     "output_type": "stream",
     "text": [
      "epoch 0\n",
      "epoch 1\n",
      "epoch 2\n",
      "epoch 3\n",
      "epoch 4\n",
      "epoch 5\n",
      "epoch 6\n",
      "epoch 7\n",
      "epoch 8\n",
      "epoch 9\n",
      "epoch 10\n",
      "epoch 11\n",
      "epoch 12\n",
      "epoch 13\n",
      "epoch 14\n",
      "epoch 15\n",
      "epoch 16\n",
      "epoch 17\n",
      "epoch 18\n",
      "epoch 19\n",
      "epoch 20\n",
      "epoch 21\n",
      "epoch 22\n",
      "epoch 23\n",
      "epoch 24\n",
      "epoch 25\n",
      "epoch 26\n",
      "epoch 27\n",
      "epoch 28\n",
      "epoch 29\n",
      "done training\n"
     ]
    }
   ],
   "source": [
    "# training the model\n",
    "count = len(data)\n",
    "model = Doc2Vec(size=100, dbow_words= 1, dm=0, iter=1,  window=12, seed=1337, min_count=5, workers=4,alpha=0.025, min_alpha=0.025)\n",
    "model.build_vocab(documents)\n",
    "for epoch in range(30):\n",
    "    print(\"epoch \"+str(epoch))\n",
    "    model.train(documents, total_examples=count, epochs=1)\n",
    "    model.save('commonSense.model')\n",
    "    model.alpha -= 0.002  # decrease the learning rate\n",
    "    model.min_alpha = model.alpha  # fix the learning rate, no decay\n",
    "print(\"done training\")"
   ]
  },
  {
   "cell_type": "code",
   "execution_count": 283,
   "metadata": {
    "collapsed": true
   },
   "outputs": [],
   "source": [
    "# inferring vectors\n",
    "vectors = []\n",
    "for d in data:\n",
    "    vectors.append(model.infer_vector(d))"
   ]
  },
  {
   "cell_type": "markdown",
   "metadata": {},
   "source": [
    "#### Clustering Using KMeans"
   ]
  },
  {
   "cell_type": "code",
   "execution_count": 214,
   "metadata": {
    "collapsed": true
   },
   "outputs": [],
   "source": [
    "from nltk.cluster.kmeans import KMeansClusterer\n",
    "from collections import Counter"
   ]
  },
  {
   "cell_type": "code",
   "execution_count": 284,
   "metadata": {},
   "outputs": [],
   "source": [
    "kclusterer = KMeansClusterer(T, distance=nltk.cluster.util.cosine_distance, repeats=20)\n",
    "assigned_clusters = kclusterer.cluster(vectors, assign_clusters=True)"
   ]
  },
  {
   "cell_type": "code",
   "execution_count": 261,
   "metadata": {},
   "outputs": [
    {
     "data": {
      "image/png": "[encoded data removed]",
      "text/plain": [
       "<matplotlib.figure.Figure at 0x111cf7cc0>"
      ]
     },
     "metadata": {},
     "output_type": "display_data"
    }
   ],
   "source": [
    "# distribution of clusters per all 2119 texts (from train, dev and test combined)\n",
    "cnt = Counter(assigned_clusters)\n",
    "plt.barh([i for i in range(len(cnt.keys()))], [value for value in cnt.values()])\n",
    "plt.savefig(\"fig_1.png\")"
   ]
  },
  {
   "cell_type": "markdown",
   "metadata": {},
   "source": [
    "#### Text2Cluster/Cluster2Texts Mapping"
   ]
  },
  {
   "cell_type": "code",
   "execution_count": 285,
   "metadata": {},
   "outputs": [
    {
     "data": {
      "text/plain": [
       "97"
      ]
     },
     "execution_count": 285,
     "metadata": {},
     "output_type": "execute_result"
    }
   ],
   "source": [
    "# mapping from assigned clusters to actual text_ids from all_texts\n",
    "mapping_text2cluster = {}\n",
    "for i in range(len(all_texts)):\n",
    "    cur_ind = all_texts[i][0].index(\"|\")\n",
    "    text_id = all_texts[i][0][:cur_ind-1]\n",
    "    mapping_text2cluster[text_id] = assigned_clusters[i]\n",
    "mapping_text2cluster['test429']"
   ]
  },
  {
   "cell_type": "code",
   "execution_count": 286,
   "metadata": {
    "collapsed": true
   },
   "outputs": [],
   "source": [
    "# mapping from cluster number to text_ids\n",
    "mapping_cluster2texts = {}\n",
    "for key,value in list(mapping_text2cluster.items()):\n",
    "    if value not in mapping_cluster2texts:\n",
    "        mapping_cluster2texts[value] = []\n",
    "        mapping_cluster2texts[value].append(key)\n",
    "    else:\n",
    "        mapping_cluster2texts[value].append(key)"
   ]
  },
  {
   "cell_type": "code",
   "execution_count": 264,
   "metadata": {},
   "outputs": [
    {
     "data": {
      "text/plain": [
       "[(28, 39), (51, 40), (87, 58)]"
      ]
     },
     "execution_count": 264,
     "metadata": {},
     "output_type": "execute_result"
    }
   ],
   "source": [
    "# most frequent clusters\n",
    "map_cluster_len = {}\n",
    "for key, value in mapping_cluster2texts.items():\n",
    "    map_cluster_len[key] = len(value)\n",
    "\n",
    "import operator\n",
    "sorted_len = sorted(map_cluster_len.items(), key=operator.itemgetter(1))\n",
    "sorted_len[-3:]"
   ]
  },
  {
   "cell_type": "code",
   "execution_count": 277,
   "metadata": {
    "collapsed": true
   },
   "outputs": [],
   "source": [
    "def get_text_from_mapping_id(mapping_id):\n",
    "    if 'train' in mapping_id:\n",
    "        text_id = mapping_id[5:]\n",
    "        return get_text_by_id(text_id, train_data)['text']\n",
    "    elif 'dev' in mapping_id:\n",
    "        text_id = mapping_id[3:]\n",
    "        return get_text_by_id(text_id, dev_data)['text']\n",
    "    elif 'test' in mapping_id:\n",
    "        text_id = mapping_id[4:]\n",
    "        return get_text_by_id(text_id, test_data)['text']\n",
    "    \n",
    "# returns list of lists (with texts divided into words)\n",
    "def get_all_texts_per_cluster(cluster_number, mapping_cluster2texts):\n",
    "    current_mapping_ids = mapping_cluster2texts[cluster_number]\n",
    "    texts_per_cluster = []\n",
    "    for map_id in current_mapping_ids:\n",
    "        texts_per_cluster.append(get_text_from_mapping_id(map_id))\n",
    "    return texts_per_cluster"
   ]
  },
  {
   "cell_type": "code",
   "execution_count": 221,
   "metadata": {
    "collapsed": true
   },
   "outputs": [],
   "source": [
    "# MODIFIED TO GET CLEAN TEXTS\n",
    "def get_text_from_mapping_id_clean(mapping_id):\n",
    "    if 'train' in mapping_id:\n",
    "        text_id = mapping_id[5:]\n",
    "        text_train = get_text_by_id(text_id, train_data)['text']\n",
    "        return list(filter(lambda x: x not in stopwords, text_train))\n",
    "    elif 'dev' in mapping_id:\n",
    "        text_id = mapping_id[3:]\n",
    "        text_dev = get_text_by_id(text_id, dev_data)['text']\n",
    "        return list(filter(lambda x: x not in stopwords, text_dev))\n",
    "    elif 'test' in mapping_id:\n",
    "        text_id = mapping_id[4:]\n",
    "        text_test = get_text_by_id(text_id, test_data)['text']\n",
    "        return list(filter(lambda x: x not in stopwords, text_test))\n",
    "    \n",
    "# returns list of lists (with texts divided into words)\n",
    "def get_all_texts_per_cluster(cluster_number, mapping_cluster2texts):\n",
    "    current_mapping_ids = mapping_cluster2texts[cluster_number]\n",
    "    texts_per_cluster = []\n",
    "    for map_id in current_mapping_ids:\n",
    "        texts_per_cluster.append(get_text_from_mapping_id_clean(map_id))\n",
    "    return texts_per_cluster"
   ]
  },
  {
   "cell_type": "code",
   "execution_count": 222,
   "metadata": {},
   "outputs": [
    {
     "name": "stdout",
     "output_type": "stream",
     "text": [
      "cluster 6: [('movie', 112), ('dvd', 50), ('watch', 46), ('player', 32), ('play', 23), ('get', 20), ('want', 19), ('decide', 19), ('friend', 18), ('go', 17), ('turn', 17), ('tv', 16), ('back', 14), ('one', 12), ('night', 12)]\n",
      "cluster 38: [('sauna', 19), ('go', 18), ('room', 13), ('get', 10), ('towel', 9), ('relax', 7), ('minutes', 7), ('change', 6), ('back', 6), ('clothes', 5), ('left', 5), ('use', 5), ('us', 5), ('pay', 4), ('take', 4)]\n",
      "cluster 75: [('go', 49), ('store', 40), ('get', 30), ('buy', 22), ('shopping', 20), ('car', 20), ('clothes', 18), ('shoes', 18), ('new', 17), ('decide', 16), ('back', 15), ('friend', 15), ('walk', 14), ('like', 14), ('dress', 13)]\n"
     ]
    }
   ],
   "source": [
    "# to find out top 15 tokens for 3 most frequent clusters\n",
    "print(\"cluster 6: \" + str(nltk.FreqDist(np.concatenate(get_all_texts_per_cluster(6, mapping_cluster2texts))).most_common(15)))\n",
    "print(\"cluster 38: \"  + str(nltk.FreqDist(np.concatenate(get_all_texts_per_cluster(38, mapping_cluster2texts))).most_common(15)))\n",
    "print(\"cluster 75: \" + str(nltk.FreqDist(np.concatenate(get_all_texts_per_cluster(75, mapping_cluster2texts))).most_common(15)))"
   ]
  },
  {
   "cell_type": "markdown",
   "metadata": {},
   "source": [
    "#### Choosing an Answer"
   ]
  },
  {
   "cell_type": "code",
   "execution_count": 232,
   "metadata": {
    "collapsed": true
   },
   "outputs": [],
   "source": [
    "def run_v5(data, mapping_cluster2texts, mapping_text2cluster, datatype_prefix):\n",
    "    results = []\n",
    "    for instance in data:\n",
    "        cluster_number = mapping_text2cluster[datatype_prefix + instance['text_id']]\n",
    "        similar_texts = np.concatenate(get_all_texts_per_cluster(cluster_number, mapping_cluster2texts))\n",
    "        for question in instance['questions']:\n",
    "            correct_answers = choose_answer_v2(instance['text'], similar_texts, question['answers'])[0]\n",
    "            question_results = [instance['text_id'], question['question_id'], correct_answers]\n",
    "            results.append(question_results)\n",
    "    return results"
   ]
  },
  {
   "cell_type": "markdown",
   "metadata": {},
   "source": [
    "#### Evaluation"
   ]
  },
  {
   "cell_type": "code",
   "execution_count": 224,
   "metadata": {},
   "outputs": [
    {
     "name": "stdout",
     "output_type": "stream",
     "text": [
      "Train accuracy: 61.06258349604358\n",
      "Dev accuracy: 60.09922041105599\n",
      "Test accuracy: 61.70897390060779\n"
     ]
    }
   ],
   "source": [
    "# 20 epochs, no DeScript, window 10\n",
    "gensim_1_train = run_v5(train_data, mapping_cluster2texts, mapping_text2cluster, 'train')\n",
    "print(\"Train accuracy: \" + str(evaluate(gensim_1_train, gold_train)[0]))\n",
    "gensim_1_dev = run_v5(dev_data, mapping_cluster2texts, mapping_text2cluster, 'dev')\n",
    "print(\"Dev accuracy: \" + str(evaluate(gensim_1_dev, gold_dev)[0]))\n",
    "gensim_1_test = run_v5(test_data, mapping_cluster2texts, mapping_text2cluster, 'test')\n",
    "print(\"Test accuracy: \" + str(evaluate(gensim_1_test, gold_test)[0]))"
   ]
  },
  {
   "cell_type": "code",
   "execution_count": 233,
   "metadata": {},
   "outputs": [
    {
     "name": "stdout",
     "output_type": "stream",
     "text": [
      "Train accuracy: 61.689446100092496\n",
      "Dev accuracy: 61.23316796598157\n",
      "Test accuracy: 61.60171612441903\n"
     ]
    }
   ],
   "source": [
    "# 20 epochs, no DeScript, window 12\n",
    "gensim_1_train = run_v5(train_data, mapping_cluster2texts, mapping_text2cluster, 'train')\n",
    "print(\"Train accuracy: \" + str(evaluate(gensim_1_train, gold_train)[0]))\n",
    "gensim_1_dev = run_v5(dev_data, mapping_cluster2texts, mapping_text2cluster, 'dev')\n",
    "print(\"Dev accuracy: \" + str(evaluate(gensim_1_dev, gold_dev)[0]))\n",
    "gensim_1_test = run_v5(test_data, mapping_cluster2texts, mapping_text2cluster, 'test')\n",
    "print(\"Test accuracy: \" + str(evaluate(gensim_1_test, gold_test)[0]))"
   ]
  },
  {
   "cell_type": "code",
   "execution_count": 244,
   "metadata": {},
   "outputs": [
    {
     "name": "stdout",
     "output_type": "stream",
     "text": [
      "Train accuracy: 61.59695817490495\n",
      "Dev accuracy: 61.09142452161588\n",
      "Test accuracy: 61.56596353235609\n"
     ]
    }
   ],
   "source": [
    "# 20 epochs, DeScript, window 10\n",
    "gensim_1_train = run_v5(train_data, mapping_cluster2texts, mapping_text2cluster, 'train')\n",
    "print(\"Train accuracy: \" + str(evaluate(gensim_1_train, gold_train)[0]))\n",
    "gensim_1_dev = run_v5(dev_data, mapping_cluster2texts, mapping_text2cluster, 'dev')\n",
    "print(\"Dev accuracy: \" + str(evaluate(gensim_1_dev, gold_dev)[0]))\n",
    "gensim_1_test = run_v5(test_data, mapping_cluster2texts, mapping_text2cluster, 'test')\n",
    "print(\"Test accuracy: \" + str(evaluate(gensim_1_test, gold_test)[0]))"
   ]
  },
  {
   "cell_type": "code",
   "execution_count": 255,
   "metadata": {},
   "outputs": [
    {
     "name": "stdout",
     "output_type": "stream",
     "text": [
      "Train accuracy: 61.60723461103689\n",
      "Dev accuracy: 60.737065910701624\n",
      "Test accuracy: 61.74472649267072\n"
     ]
    }
   ],
   "source": [
    "# 30 epochs, no DeScript, window 10\n",
    "gensim_1_train = run_v5(train_data, mapping_cluster2texts, mapping_text2cluster, 'train')\n",
    "print(\"Train accuracy: \" + str(evaluate(gensim_1_train, gold_train)[0]))\n",
    "gensim_1_dev = run_v5(dev_data, mapping_cluster2texts, mapping_text2cluster, 'dev')\n",
    "print(\"Dev accuracy: \" + str(evaluate(gensim_1_dev, gold_dev)[0]))\n",
    "gensim_1_test = run_v5(test_data, mapping_cluster2texts, mapping_text2cluster, 'test')\n",
    "print(\"Test accuracy: \" + str(evaluate(gensim_1_test, gold_test)[0]))"
   ]
  },
  {
   "cell_type": "code",
   "execution_count": 266,
   "metadata": {},
   "outputs": [
    {
     "name": "stdout",
     "output_type": "stream",
     "text": [
      "Train accuracy: 61.61751104716884\n",
      "Dev accuracy: 61.02055279943303\n",
      "Test accuracy: 61.887736860922416\n"
     ]
    }
   ],
   "source": [
    "# 30 epochs, no DeScript, window 12\n",
    "gensim_1_train = run_v5(train_data, mapping_cluster2texts, mapping_text2cluster, 'train')\n",
    "print(\"Train accuracy: \" + str(evaluate(gensim_1_train, gold_train)[0]))\n",
    "gensim_1_dev = run_v5(dev_data, mapping_cluster2texts, mapping_text2cluster, 'dev')\n",
    "print(\"Dev accuracy: \" + str(evaluate(gensim_1_dev, gold_dev)[0]))\n",
    "gensim_1_test = run_v5(test_data, mapping_cluster2texts, mapping_text2cluster, 'test')\n",
    "print(\"Test accuracy: \" + str(evaluate(gensim_1_test, gold_test)[0]))"
   ]
  },
  {
   "cell_type": "code",
   "execution_count": 278,
   "metadata": {},
   "outputs": [
    {
     "name": "stdout",
     "output_type": "stream",
     "text": [
      "Train accuracy: 61.494193813585454\n",
      "Dev accuracy: 60.66619418851879\n",
      "Test accuracy: 61.24419020378977\n"
     ]
    }
   ],
   "source": [
    "# 30 epochs, DeScript, window 10\n",
    "gensim_1_train = run_v5(train_data, mapping_cluster2texts, mapping_text2cluster, 'train')\n",
    "print(\"Train accuracy: \" + str(evaluate(gensim_1_train, gold_train)[0]))\n",
    "gensim_1_dev = run_v5(dev_data, mapping_cluster2texts, mapping_text2cluster, 'dev')\n",
    "print(\"Dev accuracy: \" + str(evaluate(gensim_1_dev, gold_dev)[0]))\n",
    "gensim_1_test = run_v5(test_data, mapping_cluster2texts, mapping_text2cluster, 'test')\n",
    "print(\"Test accuracy: \" + str(evaluate(gensim_1_test, gold_test)[0]))"
   ]
  },
  {
   "cell_type": "code",
   "execution_count": 287,
   "metadata": {},
   "outputs": [
    {
     "name": "stdout",
     "output_type": "stream",
     "text": [
      "Train accuracy: 61.59695817490495\n",
      "Dev accuracy: 60.24096385542169\n",
      "Test accuracy: 61.95924204504827\n"
     ]
    }
   ],
   "source": [
    "# 30 epochs, DeScript, window 12\n",
    "gensim_1_train = run_v5(train_data, mapping_cluster2texts, mapping_text2cluster, 'train')\n",
    "print(\"Train accuracy: \" + str(evaluate(gensim_1_train, gold_train)[0]))\n",
    "gensim_1_dev = run_v5(dev_data, mapping_cluster2texts, mapping_text2cluster, 'dev')\n",
    "print(\"Dev accuracy: \" + str(evaluate(gensim_1_dev, gold_dev)[0]))\n",
    "gensim_1_test = run_v5(test_data, mapping_cluster2texts, mapping_text2cluster, 'test')\n",
    "print(\"Test accuracy: \" + str(evaluate(gensim_1_test, gold_test)[0]))"
   ]
  },
  {
   "cell_type": "markdown",
   "metadata": {},
   "source": [
    "#### The following part is an attempt to improve an answering method."
   ]
  },
  {
   "cell_type": "markdown",
   "metadata": {},
   "source": [
    "### Part 5. Choosing an Answer Based on Similarity\n",
    "- train doc2vec with sentences from texts, questions and answers\n",
    "- infer vectors for Q&As\n",
    "- score answers based on their similarity with the question"
   ]
  },
  {
   "cell_type": "markdown",
   "metadata": {},
   "source": [
    "#### Training Doc2Vec"
   ]
  },
  {
   "cell_type": "code",
   "execution_count": 340,
   "metadata": {
    "collapsed": true
   },
   "outputs": [],
   "source": [
    "from nltk.tokenize import sent_tokenize"
   ]
  },
  {
   "cell_type": "code",
   "execution_count": 347,
   "metadata": {
    "collapsed": true
   },
   "outputs": [],
   "source": [
    "def sentence_preprocessing(text):\n",
    "    sentences = sent_tokenize(text)\n",
    "    tokenized_sentences = []\n",
    "    for sent in sentences:\n",
    "        tokenized_sentences.append(preprocess_text(sent))\n",
    "    return tokenized_sentences"
   ]
  },
  {
   "cell_type": "code",
   "execution_count": 352,
   "metadata": {
    "collapsed": true
   },
   "outputs": [],
   "source": [
    "def xml2listData_v2(xml_data):\n",
    "    data = []\n",
    "    root = ET.XML(xml_data)\n",
    "    for child in root:\n",
    "        for subchild in child:\n",
    "            if subchild.tag == 'text':\n",
    "                data.append(sentence_preprocessing(subchild.text))\n",
    "            if subchild.tag == 'questions':\n",
    "                for question in subchild:\n",
    "                    data.append(sentence_preprocessing(question.attrib[\"text\"]))\n",
    "                    for answer in question:\n",
    "                        data.append(sentence_preprocessing(answer.attrib[\"text\"]))\n",
    "    return data"
   ]
  },
  {
   "cell_type": "code",
   "execution_count": 358,
   "metadata": {
    "collapsed": true
   },
   "outputs": [],
   "source": [
    "new_train = xml2listData_v2(xml_train)\n",
    "new_dev = xml2listData_v2(xml_dev)\n",
    "new_test = xml2listData_v2(xml_test)"
   ]
  },
  {
   "cell_type": "code",
   "execution_count": 371,
   "metadata": {
    "collapsed": true
   },
   "outputs": [],
   "source": [
    "all_sentences = []\n",
    "for el in np.concatenate([new_train, new_dev, new_test]):\n",
    "    for s in el:\n",
    "        all_sentences.append(s)"
   ]
  },
  {
   "cell_type": "code",
   "execution_count": 372,
   "metadata": {
    "collapsed": true
   },
   "outputs": [],
   "source": [
    "class Documents(object):\n",
    "    def __init__(self, documents):\n",
    "        self.documents = documents\n",
    "\n",
    "    def __iter__(self):\n",
    "        for i, doc in enumerate(self.documents):\n",
    "            yield TaggedDocument(words = doc, tags = [i])"
   ]
  },
  {
   "cell_type": "code",
   "execution_count": 374,
   "metadata": {
    "collapsed": true
   },
   "outputs": [],
   "source": [
    "doc_sentences = Documents(all_sentences)"
   ]
  },
  {
   "cell_type": "code",
   "execution_count": 376,
   "metadata": {},
   "outputs": [
    {
     "name": "stdout",
     "output_type": "stream",
     "text": [
      "epoch 0\n",
      "epoch 1\n",
      "epoch 2\n",
      "epoch 3\n",
      "epoch 4\n",
      "epoch 5\n",
      "epoch 6\n",
      "epoch 7\n",
      "epoch 8\n",
      "epoch 9\n",
      "epoch 10\n",
      "epoch 11\n",
      "epoch 12\n",
      "epoch 13\n",
      "epoch 14\n",
      "epoch 15\n",
      "epoch 16\n",
      "epoch 17\n",
      "epoch 18\n",
      "epoch 19\n",
      "done training\n"
     ]
    }
   ],
   "source": [
    "# training the model\n",
    "count = len(all_sentences)\n",
    "model_sim = Doc2Vec(size=40, dbow_words= 1, dm=0, iter=1,  window=8, seed=1337, min_count=5, workers=4,alpha=0.025, min_alpha=0.025)\n",
    "model_sim.build_vocab(doc_sentences)\n",
    "for epoch in range(20):\n",
    "    print(\"epoch \"+str(epoch))\n",
    "    model_sim.train(doc_sentences, total_examples=count, epochs=1)\n",
    "    model_sim.save('commonSense_sim.model')\n",
    "    model_sim.alpha -= 0.002  # decrease the learning rate\n",
    "    model_sim.min_alpha = model_sim.alpha  # fix the learning rate, no decay\n",
    "print(\"done training\")"
   ]
  },
  {
   "cell_type": "markdown",
   "metadata": {},
   "source": [
    "#### Inferring Vectors and Answering Questions"
   ]
  },
  {
   "cell_type": "code",
   "execution_count": 377,
   "metadata": {
    "collapsed": true
   },
   "outputs": [],
   "source": [
    "from sklearn.metrics import pairwise"
   ]
  },
  {
   "cell_type": "code",
   "execution_count": 426,
   "metadata": {
    "collapsed": true
   },
   "outputs": [],
   "source": [
    "def choose_answer_similarity(question, answers, model_sim):\n",
    "    question_vector = model_sim.infer_vector(question)\n",
    "    answer_scores = {}\n",
    "    for answer in answers:\n",
    "        answer_vector = model_sim.infer_vector(answer['answer_text'])\n",
    "        answer_scores[answer['answer_id']] = pairwise.cosine_similarity(question_vector.reshape(1, -1), answer_vector.reshape(1, -1))\n",
    "    best_answer = max(answer_scores.items(), key=lambda k: k[1])[0]\n",
    "    return best_answer"
   ]
  },
  {
   "cell_type": "code",
   "execution_count": 425,
   "metadata": {},
   "outputs": [
    {
     "data": {
      "text/plain": [
       "0.94402874"
      ]
     },
     "execution_count": 425,
     "metadata": {},
     "output_type": "execute_result"
    }
   ],
   "source": [
    "choose_answer_similarity(new_train[1][0], new_train[2][0], model_sim)[0][0]"
   ]
  },
  {
   "cell_type": "code",
   "execution_count": 427,
   "metadata": {
    "collapsed": true
   },
   "outputs": [],
   "source": [
    "def run_v6(data, choose_answer_method, model):\n",
    "    results = []\n",
    "    for instance in data:\n",
    "        for question in instance['questions']:\n",
    "            correct_answers = choose_answer_method(question['question_text'], question['answers'], model)\n",
    "            question_results = [instance['text_id'], question['question_id'], correct_answers]\n",
    "            results.append(question_results)\n",
    "    return results"
   ]
  },
  {
   "cell_type": "code",
   "execution_count": 432,
   "metadata": {},
   "outputs": [
    {
     "data": {
      "text/plain": [
       "49.121364710718325"
      ]
     },
     "execution_count": 432,
     "metadata": {},
     "output_type": "execute_result"
    }
   ],
   "source": [
    "evaluate(run_v6(train_data, choose_answer_similarity, model_sim), ideal_results_train)[0]"
   ]
  },
  {
   "cell_type": "code",
   "execution_count": 433,
   "metadata": {},
   "outputs": [
    {
     "data": {
      "text/plain": [
       "49.82282069454288"
      ]
     },
     "execution_count": 433,
     "metadata": {},
     "output_type": "execute_result"
    }
   ],
   "source": [
    "evaluate(run_v6(dev_data, choose_answer_similarity, model_sim), ideal_results_dev)[0]"
   ]
  }
 ],
 "metadata": {
  "kernelspec": {
   "display_name": "Python 3",
   "language": "python",
   "name": "python3"
  },
  "language_info": {
   "codemirror_mode": {
    "name": "ipython",
    "version": 3
   },
   "file_extension": ".py",
   "mimetype": "text/x-python",
   "name": "python",
   "nbconvert_exporter": "python",
   "pygments_lexer": "ipython3",
   "version": "3.6.1"
  }
 },
 "nbformat": 4,
 "nbformat_minor": 2
}
