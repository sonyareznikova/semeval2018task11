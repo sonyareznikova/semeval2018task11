{
 "cells": [
  {
   "cell_type": "code",
   "execution_count": 11,
   "metadata": {
    "collapsed": true
   },
   "outputs": [],
   "source": [
    "import nltk\n",
    "import numpy as np\n",
    "import pandas as pd\n",
    "import xml.etree.ElementTree as ET\n",
    "import random as rd\n",
    "from matplotlib import pyplot as plt\n",
    "from nltk.corpus import wordnet as wn\n",
    "%matplotlib inline"
   ]
  },
  {
   "cell_type": "markdown",
   "metadata": {},
   "source": [
    "## Reading and Preprocessing Data\n",
    "Parsing xml train and dev data\n",
    "Tokenising text/questions/answers, getting rid of punctuation and upper cases "
   ]
  },
  {
   "cell_type": "code",
   "execution_count": 23,
   "metadata": {
    "collapsed": true
   },
   "outputs": [],
   "source": [
    "xml_train = open('MCScript/train-data.xml').read()\n",
    "xml_dev = open('MCScript/dev-data.xml').read()\n",
    "xml_test = open('MCScript/test-data.xml').read()"
   ]
  },
  {
   "cell_type": "code",
   "execution_count": 24,
   "metadata": {
    "collapsed": true
   },
   "outputs": [],
   "source": [
    "# method to preprocess data\n",
    "\n",
    "punctuation_and_extra = set(list('!\"#$%&\\'()*+,-./:;<=>? @[\\\\]^_`{|}~£'))\n",
    "punctuation_and_extra.update([\"'s\", \"n't\", \"``\", \"''\", \"'ll\", \"'m\", \"'d\", \"'ve\", \"wa\"])\n",
    "\n",
    "def preprocess_text(text):\n",
    "    tokens = nltk.word_tokenize(text)\n",
    "    tokenised_text = []\n",
    "    for word in tokens:\n",
    "        if \":\" in word: #to deal with time formats, e.g. 5:00am\n",
    "            new_word = word.replace(\":\", \" \")\n",
    "            tokenised_text.append(new_word.lower())\n",
    "        else:\n",
    "            if (wn.morphy(word.lower()) != None):\n",
    "                tokenised_text.append(wn.morphy(word.lower()))\n",
    "            else:\n",
    "                tokenised_text.append(word.lower())\n",
    "    tokenised_text = list(filter(lambda x: x not in punctuation_and_extra, tokenised_text))\n",
    "    return tokenised_text"
   ]
  },
  {
   "cell_type": "code",
   "execution_count": 25,
   "metadata": {
    "collapsed": true
   },
   "outputs": [],
   "source": [
    "# method to read data from xml\n",
    "\n",
    "def xml2listData(xml_data):\n",
    "    data = []\n",
    "    root = ET.XML(xml_data)\n",
    "    for child in root:\n",
    "        instance = {}\n",
    "        for subchild in child:\n",
    "            if subchild.tag == 'text':\n",
    "                instance['text_id'] = child.attrib[\"id\"]\n",
    "                instance[subchild.tag] = preprocess_text(subchild.text)\n",
    "            if subchild.tag == 'questions':\n",
    "                questions = []\n",
    "                for question in subchild:\n",
    "                    single_question = {}\n",
    "                    single_question['question_id'] = question.attrib[\"id\"]\n",
    "                    single_question['question_text'] = preprocess_text(question.attrib[\"text\"])\n",
    "                    answers = []\n",
    "                    for answer in question:\n",
    "                        single_answer = {}\n",
    "                        single_answer['answer_id'] = answer.attrib[\"id\"]\n",
    "                        single_answer['answer_text'] = preprocess_text(answer.attrib[\"text\"])\n",
    "                        single_answer['correct'] = answer.attrib[\"correct\"]\n",
    "                        answers.append(single_answer)\n",
    "                    single_question['answers'] = answers\n",
    "                    questions.append(single_question)\n",
    "                instance['questions'] = questions\n",
    "        data.append(instance)\n",
    "    return data"
   ]
  },
  {
   "cell_type": "code",
   "execution_count": 26,
   "metadata": {
    "collapsed": true
   },
   "outputs": [],
   "source": [
    "train_data = xml2listData(xml_train)\n",
    "dev_data = xml2listData(xml_dev)\n",
    "test_data = xml2listData(xml_test)"
   ]
  },
  {
   "cell_type": "markdown",
   "metadata": {},
   "source": [
    "Parsing and preprocessing knowledge script data"
   ]
  },
  {
   "cell_type": "code",
   "execution_count": 30,
   "metadata": {
    "collapsed": true
   },
   "outputs": [],
   "source": [
    "# method to read DeScript xml\n",
    "\n",
    "def xml2listDeScript(xml_file):\n",
    "    data = []\n",
    "    root = ET.XML(xml_file)\n",
    "    for label in root:\n",
    "        for item in label:\n",
    "            data.append(preprocess_text(item.attrib[\"original\"]))\n",
    "    return data"
   ]
  },
  {
   "cell_type": "code",
   "execution_count": 15,
   "metadata": {
    "collapsed": true
   },
   "outputs": [],
   "source": [
    "import glob\n",
    "# returns a list of strings which are names of files\n",
    "first_gold_standard = glob.glob(\"./DeScript_LREC2016/gold_paraphrase_sets/first_gold_annotation/*.xml\")\n",
    "second_gold_standard = glob.glob(\"./DeScript_LREC2016/gold_paraphrase_sets/second_gold_annotation/*.xml\")"
   ]
  },
  {
   "cell_type": "code",
   "execution_count": 16,
   "metadata": {
    "collapsed": true
   },
   "outputs": [],
   "source": [
    "def scriptFiles_to_lists(scriptFiles):\n",
    "    topcs = []\n",
    "    for filename in scriptFiles:\n",
    "        current_file = open(filename).read()\n",
    "        topcs.append(xml2listDeScript(current_file))\n",
    "    return topcs\n",
    "\n",
    "topcs1 = scriptFiles_to_lists(first_gold_standard)\n",
    "topcs2 = scriptFiles_to_lists(second_gold_standard)"
   ]
  },
  {
   "cell_type": "code",
   "execution_count": 17,
   "metadata": {
    "collapsed": true
   },
   "outputs": [],
   "source": [
    "# creating a dictionary with topics from both gold standards\n",
    "topics = {'baking_a_cake': np.concatenate(topcs1[0]+topcs2[0]),  'book_from_library': np.concatenate(topcs1[1]+topcs2[1]), 'airplane_flying': np.concatenate(topcs1[2]+topcs2[2]), \n",
    "          'hair_cut': np.concatenate(topcs1[3]+topcs2[3]), 'grocery_shopping': np.concatenate(topcs1[4]+topcs2[4]),'on_the_train': np.concatenate(topcs1[5]+topcs2[5]), \n",
    "          'planting_a_tree': np.concatenate(topcs1[6]+topcs2[6]), 'repair_flat_bike_tyre': np.concatenate(topcs1[7]+topcs2[7]), \n",
    "          'on_the_bus': np.concatenate(topcs1[8]+topcs2[8]), 'taking_bath': np.concatenate(topcs1[9]+topcs2[9])}"
   ]
  },
  {
   "cell_type": "code",
   "execution_count": 18,
   "metadata": {
    "collapsed": true
   },
   "outputs": [],
   "source": [
    "# a dictionary with docs within topics\n",
    "topic_docs = {'baking_a_cake': topcs1[0]+topcs2[0],  'book_from_library': topcs1[1]+topcs2[1], 'airplane_flying': topcs1[2]+topcs2[2], \n",
    "          'hair_cut': topcs1[3]+topcs2[3], 'grocery_shopping': topcs1[4]+topcs2[4],'on_the_train': topcs1[5]+topcs2[5], \n",
    "          'planting_a_tree': topcs1[6]+topcs2[6], 'repair_flat_bike_tyre': topcs1[7]+topcs2[7], \n",
    "          'on_the_bus': topcs1[8]+topcs2[8], 'taking_bath': topcs1[9]+topcs2[9]}"
   ]
  },
  {
   "cell_type": "markdown",
   "metadata": {},
   "source": [
    "## Evaluation Script"
   ]
  },
  {
   "cell_type": "code",
   "execution_count": 31,
   "metadata": {
    "collapsed": true
   },
   "outputs": [],
   "source": [
    "def get_gold(data):\n",
    "    gold_standard = []\n",
    "    for instance in data:\n",
    "        for question in instance['questions']:\n",
    "            instance_result = [instance['text_id']]\n",
    "            instance_result.append(question['question_id'])\n",
    "            for answer in question['answers']:\n",
    "                if answer['correct'] == 'True':\n",
    "                    instance_result.append(answer['answer_id'])\n",
    "            gold_standard.append(instance_result)\n",
    "    return gold_standard"
   ]
  },
  {
   "cell_type": "code",
   "execution_count": 36,
   "metadata": {
    "collapsed": true
   },
   "outputs": [],
   "source": [
    "gold_train = get_gold(train_data)\n",
    "gold_dev = get_gold(dev_data)\n",
    "gold_test = get_gold(test_data)"
   ]
  },
  {
   "cell_type": "code",
   "execution_count": 38,
   "metadata": {
    "collapsed": true
   },
   "outputs": [],
   "source": [
    "# evaluating accuracy, returning a tuple with percentage and list of incorrect answers\n",
    "def evaluate(results, ideal_results):\n",
    "    if (len(results) != len(ideal_results)):\n",
    "        raise Exception(\"Different length of your result and ideal results\")\n",
    "    correct_answers = 0\n",
    "    all_answers = len(results)\n",
    "    incorrect_answers = []\n",
    "    for i in range(all_answers):\n",
    "        if results[i] == ideal_results[i]:\n",
    "            correct_answers += 1\n",
    "        else:\n",
    "            incorrect_answers.append(results[i])\n",
    "    return ((correct_answers/all_answers)*100, incorrect_answers)"
   ]
  },
  {
   "cell_type": "markdown",
   "metadata": {},
   "source": [
    "## Saving Data to File"
   ]
  },
  {
   "cell_type": "code",
   "execution_count": 39,
   "metadata": {
    "collapsed": true
   },
   "outputs": [],
   "source": [
    "def save_results(results):\n",
    "    f = open('answer.txt', 'w')\n",
    "    for res in results:\n",
    "        f.write(\",\".join(res) + \"\\n\")\n",
    "    f.close()"
   ]
  },
  {
   "cell_type": "markdown",
   "metadata": {},
   "source": [
    "## Answering Questions\n",
    "- part 1: answer using only the given text\n",
    "- part 2: answer using other texts with similar topics\n",
    "- part 3: answer using text + knowledge"
   ]
  },
  {
   "cell_type": "markdown",
   "metadata": {},
   "source": [
    "### Part 1. Baseline. Answering Using The Given Text Only"
   ]
  },
  {
   "cell_type": "code",
   "execution_count": 48,
   "metadata": {
    "collapsed": true
   },
   "outputs": [],
   "source": [
    "stopwords = set(nltk.corpus.stopwords.words(\"english\"))"
   ]
  },
  {
   "cell_type": "code",
   "execution_count": 49,
   "metadata": {},
   "outputs": [
    {
     "data": {
      "text/plain": [
       "('917', '1', 28)"
      ]
     },
     "execution_count": 49,
     "metadata": {},
     "output_type": "execute_result"
    }
   ],
   "source": [
    "# getting the longest answer length\n",
    "from operator import itemgetter\n",
    "all_answers = []\n",
    "for instance in train_data+dev_data:\n",
    "    for question in instance['questions']:\n",
    "        for answer in question['answers']:\n",
    "            all_answers.append((instance['text_id'], question['question_id'], len(answer['answer_text'])))\n",
    "max(all_answers,key=itemgetter(2))"
   ]
  },
  {
   "cell_type": "code",
   "execution_count": 40,
   "metadata": {
    "collapsed": true
   },
   "outputs": [],
   "source": [
    "def choose_answer(text, answers):\n",
    "    answer_scores = {}\n",
    "    for answer in answers:\n",
    "        if \" \".join(answer['answer_text']) in \" \".join(text):\n",
    "            answer_scores[answer['answer_id']] = 28 #longest answer length\n",
    "        else:\n",
    "            clean_words = list(filter(lambda x: x not in stopwords, answer['answer_text']))\n",
    "            current_score = 0\n",
    "            for word in clean_words:\n",
    "                if word in text:\n",
    "                    current_score += 1\n",
    "            answer_scores[answer['answer_id']] = current_score \n",
    "    best_answer = max(answer_scores.items(), key=lambda k: k[1])\n",
    "    return best_answer"
   ]
  },
  {
   "cell_type": "code",
   "execution_count": 41,
   "metadata": {
    "collapsed": true
   },
   "outputs": [],
   "source": [
    "#to answer yes-no questions\n",
    "def get_answer_for_general_form(question_text, text, answers):\n",
    "    correct_answer = 0\n",
    "    #leaving only meaningful words in the question\n",
    "    ques = list(filter(lambda x: x not in stopwords, question_text))\n",
    "    occurence_number = 0\n",
    "    for word in ques:\n",
    "        if word in text:\n",
    "            occurence_number += 1\n",
    "    if occurence_number > 2:\n",
    "        for answer in answers:\n",
    "            if 'yes' in answer['answer_text']:\n",
    "                return answer['answer_id']\n",
    "    else:\n",
    "        for answer in answers:\n",
    "            if 'yes' not in answer['answer_text']:\n",
    "                return answer['answer_id']"
   ]
  },
  {
   "cell_type": "code",
   "execution_count": 42,
   "metadata": {
    "collapsed": true
   },
   "outputs": [],
   "source": [
    "def is_general_question(answers):\n",
    "    answer_texts = np.concatenate([answer['answer_text'] for answer in answers])\n",
    "    if \"yes\" in answer_texts:\n",
    "        return True\n",
    "    else:\n",
    "        return False"
   ]
  },
  {
   "cell_type": "code",
   "execution_count": 43,
   "metadata": {
    "collapsed": true
   },
   "outputs": [],
   "source": [
    "#taking into account \"YES/NO\" questions\n",
    "# TODO: add doc2vec similarity between question & answer\n",
    "def choose_answer_v3(text, question_text, answers):\n",
    "    answer_scores = {}\n",
    "    #checking if the question is a general one\n",
    "    is_general = is_general_question(answers)\n",
    "    if is_general:\n",
    "        return get_answer_for_general_form(question_text, text, answers)\n",
    "    #looking for answer\n",
    "    for answer in answers:\n",
    "        if \" \".join(answer['answer_text']) in \" \".join(text):\n",
    "            answer_scores[answer['answer_id']] = 28 #longest answer length\n",
    "        else:\n",
    "            clean_words = list(filter(lambda x: x not in stopwords, answer['answer_text']))\n",
    "            current_score = 0\n",
    "            for word in clean_words:\n",
    "                if word in text:\n",
    "                    current_score += 1\n",
    "            answer_scores[answer['answer_id']] = current_score \n",
    "    best_answer = max(answer_scores.items(), key=lambda k: k[1])\n",
    "    return best_answer[0]"
   ]
  },
  {
   "cell_type": "code",
   "execution_count": 44,
   "metadata": {
    "collapsed": true
   },
   "outputs": [],
   "source": [
    "# assuming data in the train/dev format (dictionaries of dictionaries and lists)\n",
    "# returning results in the form of [[0,1,1],[0,2,1]...]\n",
    "def run(data):\n",
    "    results = []\n",
    "    for instance in data:\n",
    "        for question in instance['questions']:\n",
    "            correct_answers = choose_answer(instance['text'], question['answers'])[0]\n",
    "            question_results = [instance['text_id'], question['question_id'], correct_answers]\n",
    "            results.append(question_results)\n",
    "    return results"
   ]
  },
  {
   "cell_type": "code",
   "execution_count": 45,
   "metadata": {
    "collapsed": true
   },
   "outputs": [],
   "source": [
    "def run_v4(data, choose_answer_method):\n",
    "    results = []\n",
    "    for instance in data:\n",
    "        for question in instance['questions']:\n",
    "            correct_answers = choose_answer_method(instance['text'], question['question_text'],question['answers'])\n",
    "            question_results = [instance['text_id'], question['question_id'], correct_answers]\n",
    "            results.append(question_results)\n",
    "    return results"
   ]
  },
  {
   "cell_type": "markdown",
   "metadata": {},
   "source": [
    "##### Baseline"
   ]
  },
  {
   "cell_type": "code",
   "execution_count": 54,
   "metadata": {},
   "outputs": [
    {
     "name": "stdout",
     "output_type": "stream",
     "text": [
      "Baseline train: 60.20963929709177\n",
      "Baseline dev: 60.45357902197024\n",
      "Baseline test: 60.707901322845906\n"
     ]
    }
   ],
   "source": [
    "print(\"Baseline train: \" + str(evaluate(run(train_data), gold_train)[0]))\n",
    "print(\"Baseline dev: \" + str(evaluate(run(dev_data), gold_dev)[0]))\n",
    "print(\"Baseline test: \" + str(evaluate(run(test_data), gold_test)[0]))"
   ]
  },
  {
   "cell_type": "markdown",
   "metadata": {},
   "source": [
    "##### Yes-No Distinction"
   ]
  },
  {
   "cell_type": "code",
   "execution_count": 53,
   "metadata": {},
   "outputs": [
    {
     "name": "stdout",
     "output_type": "stream",
     "text": [
      "Yes-No for train data: 58.976466961257834\n",
      "Yes-No for dev data: 56.909992912827775\n",
      "Yes-No for test data: 59.52806578476939\n"
     ]
    }
   ],
   "source": [
    "# Yes-No Distinction\n",
    "res_gen = run_v4(train_data, choose_answer_v3)\n",
    "print(\"Yes-No for train data: \" + str(evaluate(res_gen, gold_train)[0]))\n",
    "res_gen_dev = run_v4(dev_data, choose_answer_v3)\n",
    "print(\"Yes-No for dev data: \" + str(evaluate(res_gen_dev, gold_dev)[0]))\n",
    "res_gen_test = run_v4(test_data, choose_answer_v3)\n",
    "print(\"Yes-No for test data: \" + str(evaluate(res_gen_test, gold_test)[0]))"
   ]
  },
  {
   "cell_type": "markdown",
   "metadata": {},
   "source": [
    "##### Comparing Incorrect Answers for Two Methods"
   ]
  },
  {
   "cell_type": "code",
   "execution_count": 64,
   "metadata": {},
   "outputs": [
    {
     "data": {
      "text/plain": [
       "[['20', '5', '1'],\n",
       " ['20', '6', '1'],\n",
       " ['20', '7', '1'],\n",
       " ['20', '8', '1'],\n",
       " ['21', '0', '1']]"
      ]
     },
     "execution_count": 64,
     "metadata": {},
     "output_type": "execute_result"
    }
   ],
   "source": [
    "evaluate(res_gen, gold_train)[1][32:37]"
   ]
  },
  {
   "cell_type": "code",
   "execution_count": 65,
   "metadata": {},
   "outputs": [
    {
     "data": {
      "text/plain": [
       "[['19', '6', '0'],\n",
       " ['20', '1', '0'],\n",
       " ['20', '3', '1'],\n",
       " ['20', '5', '1'],\n",
       " ['20', '6', '1'],\n",
       " ['20', '7', '1'],\n",
       " ['20', '8', '1']]"
      ]
     },
     "execution_count": 65,
     "metadata": {},
     "output_type": "execute_result"
    }
   ],
   "source": [
    "evaluate(run(train_data), gold_train)[1][33:40]"
   ]
  },
  {
   "cell_type": "markdown",
   "metadata": {},
   "source": [
    "### Part 2. Answering Using Same-Cluster Texts\n",
    "- Modelling topics of train and dev data with BigARTM\n",
    "- Using texts from the same cluster to find the answer"
   ]
  },
  {
   "cell_type": "markdown",
   "metadata": {},
   "source": [
    "#### Topic Modelling with BigARTM"
   ]
  },
  {
   "cell_type": "code",
   "execution_count": 66,
   "metadata": {
    "collapsed": true
   },
   "outputs": [],
   "source": [
    "# transform into suitable input format and getting rid of common English words in the text to aid topic modelling\n",
    "f = open(\"all_texts.txt\", \"w\")\n",
    "all_texts = []\n",
    "for instance in train_data:\n",
    "    clean_text = instance['text']\n",
    "    clean_text = list(filter(lambda x: x not in stopwords, clean_text))\n",
    "    all_texts.append([\"train\" + instance['text_id'] + \" |text \" + \" \".join(clean_text)])\n",
    "for instance in dev_data:\n",
    "    clean_text = instance['text']\n",
    "    clean_text = list(filter(lambda x: x not in stopwords, clean_text))\n",
    "    all_texts.append([\"dev\" + instance['text_id'] + \" |text \" + \" \".join(clean_text)])\n",
    "for instance in test_data:\n",
    "    clean_text = instance['text']\n",
    "    clean_text = list(filter(lambda x: x not in stopwords, clean_text))\n",
    "    all_texts.append([\"test\" + instance['text_id'] + \" |text \" + \" \".join(clean_text)])\n",
    "\n",
    "for text in all_texts:\n",
    "    f.write(text[0]+\"\\n\")\n",
    "f.close()"
   ]
  },
  {
   "cell_type": "code",
   "execution_count": 67,
   "metadata": {
    "collapsed": true
   },
   "outputs": [],
   "source": [
    "# vectorise\n",
    "import artm\n",
    "batch_vectorizer = artm.BatchVectorizer(data_path=\"all_texts.txt\", data_format=\"vowpal_wabbit\", target_folder=\"text_batches\")\n",
    "\n",
    "# create model\n",
    "T = 100 #number of topics\n",
    "model_artm = artm.ARTM(num_topics=T, topic_names=[\"topic\"+str(i) for i in range(T)], class_ids={\"text\":1}, \n",
    "                       num_document_passes=2, reuse_theta=True, cache_theta=True, seed=-1)"
   ]
  },
  {
   "cell_type": "code",
   "execution_count": 68,
   "metadata": {
    "collapsed": true
   },
   "outputs": [],
   "source": [
    "# initialise model\n",
    "dictionary = artm.Dictionary('dictionary')\n",
    "dictionary.gather(batch_vectorizer.data_path)\n",
    "\n",
    "model_artm.scores.add(artm.SparsityPhiScore(name='SparsityPhiScore', class_id=\"text\"))\n",
    "model_artm.scores.add(artm.SparsityThetaScore(name='SparsityThetaScore'))\n",
    "model_artm.scores.add(artm.TopTokensScore(name=\"top_words\", num_tokens=15, class_id=\"text\"))\n",
    "model_artm.scores.add(artm.PerplexityScore(name=\"PerplexityScore\", dictionary='dictionary'))\n",
    "\n",
    "model_artm.initialize('dictionary')"
   ]
  },
  {
   "cell_type": "code",
   "execution_count": 69,
   "metadata": {
    "collapsed": true
   },
   "outputs": [],
   "source": [
    "# fit the model\n",
    "model_artm.fit_offline(batch_vectorizer=batch_vectorizer, num_collection_passes=15)"
   ]
  },
  {
   "cell_type": "code",
   "execution_count": 70,
   "metadata": {
    "collapsed": true
   },
   "outputs": [],
   "source": [
    "model_artm.theta_columns_naming = \"title\""
   ]
  },
  {
   "cell_type": "code",
   "execution_count": 71,
   "metadata": {
    "collapsed": true
   },
   "outputs": [],
   "source": [
    "theta = model_artm.get_theta()"
   ]
  },
  {
   "cell_type": "code",
   "execution_count": 72,
   "metadata": {
    "scrolled": true
   },
   "outputs": [
    {
     "name": "stdout",
     "output_type": "stream",
     "text": [
      "topic0\n",
      "['door', 'phone', 'say', 'ring', 'hear', 'answer', 'call', 'man', 'open', 'package', 'front', 'doorbell', 'house', 'know', 'could']\n",
      "topic1\n",
      "['soup', 'pot', 'add', 'cook', 'make', 'put', 'chicken', 'rack', 'pan', 'dinner', 'dishwasher', 'ingredient', 'cooking', 'stove', 'start']\n",
      "topic2\n",
      "['plate', 'put', 'set', 'table', 'fork', 'one', 'napkin', 'place', 'silverware', 'cup', 'dinner', 'knife', 'eat', 'next', 'get']\n",
      "topic3\n",
      "['outside', 'work', 'get', 'sandwich', 'tom', 'go', 'pick', 'start', 'rain', 'put', 'would', 'today', 'going', 'ready', 'job']\n",
      "topic4\n",
      "['go', 'would', 'though', 'going', 'could', 'well', 'back', 'water', 'jessie', 'environment', 'love', 'like', 'float', 'dress', 'stay']\n",
      "topic5\n",
      "['dog', 'hot', 'put', 'cook', 'take', 'grill', 'mustard', 'bun', 'ketchup', 'buns', 'eat', 'make', 'microwave', 'place', 'package']\n",
      "topic6\n",
      "['battery', 'clock', 'time', 'alarm', 'go', 'late', 'compartment', 'work', 'know', 'home', 'back', 'morning', 'wake', 'lunch', 'right']\n",
      "topic7\n",
      "['dish', 'bread', 'toast', 'dry', 'put', 'toaster', 'sink', 'one', 'get', 'kitchen', 'pop', 'turn', 'take', 'silverware', 'butter']\n",
      "topic8\n",
      "['gas', 'car', 'pump', 'tank', 'station', 'pull', 'back', 'fuel', 'cap', 'nozzle', 'get', 'put', 'card', 'fill', 'truck']\n",
      "topic9\n",
      "['room', 'living', 'start', 'one', 'next', 'small', 'little', 'take', 'like', 'feel', 'dad', 'decide', 'time', 'put', 'finally']\n",
      "topic10\n",
      "['john', 'newspaper', 'dad', 'get', 'like', 'morning', 'go', 'love', 'start', 'work', 'house', 'kind', 'wake', 'every', 'new']\n",
      "topic11\n",
      "['wallpaper', 'read', 'cut', 'paper', 'get', 'would', 'go', 'take', 'able', 'apply', 'use', 'sweater', 'start', 'carefully', 'supply']\n",
      "topic12\n",
      "['dentist', 'teeth', 'go', 'tell', 'mouth', 'appointment', 'take', 'back', 'say', 'come', 'call', 'chair', 'room', 'name', 'office']\n",
      "topic13\n",
      "['plastic', 'camping', 'pack', 'set', 'bag', 'tent', 'camp', 'go', 'put', 'two', 'top', 'first', 'sleeping', 'decide', 'dinner']\n",
      "topic14\n",
      "['picnic', 'husband', 'decide', 'get', 'day', 'nice', 'basket', 'time', 'alex', 'blanket', 'great', 'going', 'potato', 'would', 'favorite']\n",
      "topic15\n",
      "['envelope', 'address', 'stamp', 'would', 'put', 'make', 'post', 'place', 'seal', 'office', 'could', 'mailbox', 'name', 'invitation', 'time']\n",
      "topic16\n",
      "['doctor', 'appointment', 'call', 'ask', 'take', 'room', 'check', 'office', 'tell', 'go', 'nurse', 'wait', 'come', 'blood', 'left']\n",
      "topic17\n",
      "['know', 'grandmother', 'like', 'going', 'cindy', 'take', 'things', 'time', 'would', 'show', 'seats', 'ever', 'lot', 'along', 'ha']\n",
      "topic18\n",
      "['us', 'tell', 'come', 'order', 'waitress', 'go', 'ask', 'back', 'minutes', 'two', 'husband', 'bring', 'make', 'take', 'ten']\n",
      "topic19\n",
      "['friend', 'pretty', 'piece', 'around', 'get', 'would', 'need', 'weekend', 'lot', 'keep', 'nice', 'important', 'fun', 'going', 'usually']\n",
      "topic20\n",
      "['painting', 'band', 'aid', 'hang', 'would', 'mark', 'finger', 'get', 'cut', 'one', 'put', 'place', 'sure', 'make', 'go']\n",
      "topic21\n",
      "['wash', 'put', 'bath', 'laundry', 'tub', 'water', 'clothes', 'dirty', 'dry', 'washing', 'load', 'take', 'finish', 'clean', 'bubble']\n",
      "topic22\n",
      "['pasta', 'sauce', 'boil', 'minutes', 'cook', 'add', 'water', 'put', 'heat', 'let', 'get', 'meat', 'first', 'need', 'make']\n",
      "topic23\n",
      "['table', 'mom', 'place', 'put', 'dinner', 'family', 'get', 'top', 'dishwasher', 'kitchen', 'dining', 'glasses', 'next', 'plate', 'clear']\n",
      "topic24\n",
      "['sponge', 'shower', 'scrub', 'sink', 'rinse', 'water', 'side', 'remove', 'use', 'spray', 'clean', 'band-aid', 'cleaning', 'way', 'soap']\n",
      "topic25\n",
      "['night', 'get', 'sleep', 'bed', 'take', 'go', 'ready', 'last', 'fall', 'little', 'time', 'asleep', 'brush', 'teeth', 'help']\n",
      "topic26\n",
      "['water', 'shower', 'get', 'soap', 'rinse', 'towel', 'turn', 'body', 'hot', 'take', 'bucket', 'dry', 'clean', 'start', 'warm']\n",
      "topic27\n",
      "['light', 'bulb', 'switch', 'back', 'one', 'turn', 'new', 'go', 'old', 'make', 'lamp', 'sure', 'screw', 'get', 'ladder']\n",
      "topic28\n",
      "['breakfast', 'toast', 'eggs', 'bacon', 'morning', 'cook', 'butter', 'make', 'slice', 'wake', 'eat', 'two', 'bread', 'flip', 'toaster']\n",
      "topic29\n",
      "['beach', 'water', 'dad', 'sand', 'go', 'get', 'towel', 'pack', 'ocean', 'could', 'umbrella', 'bring', 'take', 'house', 'swim']\n",
      "topic30\n",
      "['check', 'line', 'make', 'sure', 'go', 'plane', 'put', 'take', 'one', 'airport', 'get', 'security', 'back', 'gate', 'time']\n",
      "topic31\n",
      "['pay', 'bill', 'month', 'check', 'payment', 'money', 'one', 'company', 'account', 'card', 'get', 'credit', 'water', 'write', 'mail']\n",
      "topic32\n",
      "['flight', 'go', 'trip', 'ticket', 'airport', 'plane', 'fly', 'vacation', 'airline', 'want', 'decide', 'time', 'florida', 'travel', 'day']\n",
      "topic33\n",
      "['pan', 'eggs', 'milk', 'heat', 'stove', 'egg', 'turn', 'make', 'pour', 'cook', 'add', 'hot', 'get', 'omelette', 'bowl']\n",
      "topic34\n",
      "['water', 'stove', 'pot', 'pour', 'place', 'turn', 'heat', 'put', 'minutes', 'fill', 'boiling', 'get', 'noodle', 'open', 'grab']\n",
      "topic35\n",
      "['fish', 'medicine', 'tank', 'food', 'top', 'take', 'cabinet', 'water', 'see', 'go', 'make', 'give', 'back', 'small', 'sure']\n",
      "topic36\n",
      "['plant', 'garden', 'grow', 'hole', 'water', 'seed', 'tree', 'soil', 'would', 'make', 'get', 'dirt', 'work', 'tomato', 'day']\n",
      "topic37\n",
      "['movie', 'watch', 'go', 'theater', 'dvd', 'want', 'decide', 'get', 'rent', 'play', 'popcorn', 'player', 'ticket', 'pick', 'home']\n",
      "topic38\n",
      "['clothes', 'fold', 'put', 'clothing', 'sock', 'shirt', 'pants', 'laundry', 'pair', 'folding', 'pile', 'first', 'take', 'together', 'top']\n",
      "topic39\n",
      "['floor', 'clean', 'mop', 'cleaner', 'toilet', 'bathroom', 'use', 'cleaning', 'sweep', 'wipe', 'spray', 'dust', 'get', 'make', 'first']\n",
      "topic40\n",
      "['bag', 'garbage', 'trash', 'take', 'open', 'top', 'item', 'place', 'full', 'pull', 'close', 'new', 'kitchen', 'put', 'grab']\n",
      "topic41\n",
      "['orange', 'juice', 'bottle', 'fresh', 'get', 'juicer', 'make', 'drink', 'put', 'squeeze', 'half', 'formula', 'go', 'cut', 'take']\n",
      "topic42\n",
      "['funeral', 'family', 'make', 'take', 'people', 'camera', 'sad', 'black', 'look', 'us', 'friend', 'flower', 'day', 'things', 'stand']\n",
      "topic43\n",
      "['shoes', 'bowling', 'go', 'game', 'ball', 'get', 'friend', 'alley', 'lane', 'would', 'us', 'pin', 'size', 'one', 'put']\n",
      "topic44\n",
      "['sauna', 'steak', 'relax', 'go', 'bring', 'back', 'steam', 'hot', 'order', 'would', 'minutes', 'take', 'felt', 'room', 'could']\n",
      "topic45\n",
      "['play', 'tennis', 'ball', 'battery', 'court', 'clock', 'alarm', 'game', 'back', 'go', 'hit', 'get', 'playing', 'time', 'set']\n",
      "topic46\n",
      "['baby', 'diaper', 'change', 'wipe', 'put', 'clean', 'take', 'back', 'would', 'get', 'crying', 'sure', 'need', 'make', 'new']\n",
      "topic47\n",
      "['book', 'read', 'go', 'child', 'found', 'story', 'reading', 'like', 'want', 'look', 'bring', 'day', 'check', 'get', 'make']\n",
      "topic48\n",
      "['go', 'front', 'see', 'row', 'tell', 'look', '911', 'could', 'able', 'help', 'one', 'woman', 'house', 'hear', 'police']\n",
      "topic49\n",
      "['take', 'picture', 'online', 'get', 'want', 'camera', 'information', 'look', 'like', 'go', 'could', 'phone', 'price', 'website', 'see']\n",
      "topic50\n",
      "['kid', 'back', 'inside', 'bag', 'get', 'end', 'put', 'make', 'big', 'around', 'tie', 'keep', 'would', 'one', 'school']\n",
      "topic51\n",
      "['coffee', 'filter', 'water', 'make', 'maker', 'pour', 'cup', 'put', 'machine', 'grounds', 'pot', 'add', 'take', 'hot', 'morning']\n",
      "topic52\n",
      "['trip', 'pack', 'suitcase', 'need', 'go', 'take', 'get', 'would', 'day', 'everything', 'sure', 'bring', 'also', 'prepare', 'things']\n",
      "topic53\n",
      "['pool', 'towel', 'swimming', 'go', 'get', 'bathroom', 'day', 'put', 'water', 'lightbulb', 'sunscreen', 'swim', 'walk', 'hot', 'take']\n",
      "topic54\n",
      "['food', 'cat', 'order', 'eat', 'get', 'take', 'go', 'restaurant', 'fast', 'give', 'place', 'water', 'want', 'tell', 'feed']\n",
      "topic55\n",
      "['hair', 'shampoo', 'conditioner', 'get', 'cut', 'wash', 'head', 'back', 'dry', 'haircut', 'make', 'rinse', 'time', 'chair', 'take']\n",
      "topic56\n",
      "['clean', 'cleaning', 'put', 'sink', 'back', 'go', 'bathroom', 'dirty', 'left', 'take', 'mess', 'away', 'make', 'spray', 'dishwasher']\n",
      "topic57\n",
      "['tree', 'paint', 'hole', 'want', 'would', 'get', 'water', 'large', 'newspaper', 'sure', 'fill', 'new', 'around', 'dirt', 'go']\n",
      "topic58\n",
      "['vegetable', 'cut', 'chop', 'cutting', 'knife', 'onion', 'board', 'get', 'make', 'put', 'piece', 'first', 'salad', 'slice', 'wash']\n",
      "topic59\n",
      "['felt', 'last', 'really', 'take', 'better', 'time', 'get', 'enjoy', 'would', 'experience', 'daughter', 'good', 'day', 'great', 'want']\n",
      "topic60\n"
     ]
    },
    {
     "name": "stdout",
     "output_type": "stream",
     "text": [
      "['cake', 'oven', 'mix', 'bake', 'ingredient', 'baking', 'pan', 'put', 'need', 'make', 'get', 'chocolate', 'frosting', 'recipe', 'minutes']\n",
      "topic61\n",
      "['wedding', 'bride', 'groom', 'ceremony', 'church', 'carrot', 'married', 'take', 'aisle', 'everyone', 'dress', 'couple', 'reception', 'exchange', 'celery']\n",
      "topic62\n",
      "['button', 'thread', 'needle', 'shirt', 'one', 'push', 'hole', 'hit', 'miss', 'end', 'tie', 'find', 'put', 'times', 'found']\n",
      "topic63\n",
      "['job', 'get', 'make', 'show', 'interview', 'since', 'way', 'take', 'always', 'work', 'tell', 'little', 'notice', 'would', 'decide']\n",
      "topic64\n",
      "['museum', 'go', 'walk', 'exhibit', 'could', 'dinosaur', 'saw', 'brother', 'ticket', 'see', 'mom', 'old', 'wait', 'dad', 'even']\n",
      "topic65\n",
      "['would', 'want', 'reservation', 'ask', 'restaurant', 'could', 'make', 'dinner', 'thought', 'number', 'time', 'agree', 'decide', 'call', 'like']\n",
      "topic66\n",
      "['machine', 'vending', 'chips', 'snack', 'dollar', 'money', 'get', 'buy', 'store', 'want', 'candy', 'decide', 'found', 'go', 'put']\n",
      "topic67\n",
      "['things', 'bowl', 'like', 'cat', 'ha', 'back', 'food', 'make', 'store', 'go', 'place', 'time', 'big', 'fresh', 'sure']\n",
      "topic68\n",
      "['clean', 'use', 'time', 'process', 'easy', 'put', 'shower', 'feel', 'let', 'first', 'usually', 'one', 'start', 'wall', 'cleaner']\n",
      "topic69\n",
      "['car', 'drive', 'turn', 'get', 'put', 'make', 'back', 'drove', 'key', 'sure', 'parking', 'right', 'park', 'road', 'side']\n",
      "topic70\n",
      "['walk', 'door', 'get', 'home', 'go', 'leash', 'around', 'open', 'front', 'back', 'walking', 'saw', 'outside', 'start', 'time']\n",
      "topic71\n",
      "['clothes', 'machine', 'put', 'laundry', 'washing', 'basket', 'dryer', 'washer', 'detergent', 'wash', 'dirty', 'take', 'start', 'dry', 'add']\n",
      "topic72\n",
      "['tea', 'water', 'mug', 'cup', 'kettle', 'bag', 'put', 'take', 'hot', 'make', 'drink', 'teabag', 'pour', 'teaspoon', 'get']\n",
      "topic73\n",
      "['fish', 'oil', 'make', 'one', 'good', 'put', 'doe', 'piece', 'pan', 'cook', 'also', 'sure', 'time', 'take', 'little']\n",
      "topic74\n",
      "['look', 'sit', 'nice', 'make', 'get', 'good', 'sure', 'table', 'decide', 'bring', 'put', 'grab', 'time', 'one', 'want']\n",
      "topic75\n",
      "['tire', 'bike', 'back', 'tube', 'shirt', 'put', 'air', 'get', 'ride', 'use', 'bicycle', 'repair', 'kit', 'take', 'flat']\n",
      "topic76\n",
      "['train', 'station', 'ticket', 'get', 'take', 'york', 'new', 'city', 'walk', 'arrive', 'stop', 'car', 'seat', 'ride', 'wait']\n",
      "topic77\n",
      "['barbecue', 'make', 'people', 'everyone', 'decide', 'well', 'like', 'choice', 'start', 'day', 'meat', 'enjoy', 'cup', 'good', 'sure']\n",
      "topic78\n",
      "['box', 'toy', 'put', 'paper', 'gift', 'tape', 'wrapping', 'wrap', 'make', 'would', 'fold', 'piece', 'side', 'pick', 'one']\n",
      "topic79\n",
      "['salmon', 'get', 'go', 'park', 'minutes', 'back', 'salad', 'buy', 'work', 'also', 'crowd', 'slow', 'put', 'make', 'let']\n",
      "topic80\n",
      "['fire', 'wood', 'start', 'bonfire', 'log', 'go', 'make', 'catch', 'dry', 'around', 'pit', 'lighter', 'place', 'friend', 'get']\n",
      "topic81\n",
      "['paper', 'gift', 'buy', 'store', 'go', 'get', 'birthday', 'home', 'shop', 'grocery', 'present', 'wrap', 'need', 'purchase', 'wrapping']\n",
      "topic82\n",
      "['bed', 'sheet', 'pillow', 'put', 'blanket', 'make', 'top', 'take', 'corner', 'fit', 'tuck', 'place', 'mattress', 'side', 'pull']\n",
      "topic83\n",
      "['letter', 'write', 'envelope', 'mail', 'address', 'put', 'friend', 'stamp', 'pen', 'corner', 'life', 'writing', 'paper', 'right', 'top']\n",
      "topic84\n",
      "['driving', 'lesson', 'get', 'instructor', 'take', 'car', 'go', 'really', 'start', 'learn', 'tell', 'nervous', 'park', 'drive', 'driver']\n",
      "topic85\n",
      "['mother', 'special', 'table', 'dinner', 'grandmother', 'billy', 'come', 'time', 'get', 'together', 'flower', 'sister', 'help', 'hold', 'clean']\n",
      "topic86\n",
      "['list', 'shopping', 'store', 'need', 'item', 'grocery', 'go', 'things', 'get', 'cart', 'make', 'week', 'put', 'check', 'buy']\n",
      "topic87\n",
      "['bus', 'driver', 'get', 'stop', 'taxi', 'take', 'minutes', 'ride', 'pay', 'need', 'street', 'wait', 'people', 'cab', 'go']\n",
      "topic88\n",
      "['pizza', 'order', 'minutes', 'phone', 'decide', 'would', 'tell', 'want', 'call', 'give', 'get', 'delivery', 'ask', 'tip', 'deliver']\n",
      "topic89\n",
      "['book', 'library', 'card', 'librarian', 'borrow', 'need', 'back', 'looking', 'take', 'ask', 'computer', 'give', 'would', 'scan', 'research']\n",
      "topic90\n",
      "['wall', 'paint', 'room', 'new', 'floor', 'look', 'decide', 'house', 'want', 'put', 'buy', 'color', 'get', 'painting', 'work']\n",
      "topic91\n",
      "['would', 'plane', 'get', 'seat', 'could', 'time', 'ticket', 'take', 'grill', 'us', 'found', 'airport', 'decide', 'window', 'going']\n",
      "topic92\n",
      "['friend', 'dance', 'go', 'arrive', 'drink', 'time', 'dancing', 'great', 'fun', 'decide', 'one', 'good', 'home', 'music', 'going']\n",
      "topic93\n",
      "['go', 'get', 'visit', 'talk', 'house', 'home', 'see', 'family', 'cousin', 'would', 'time', 'sister', 'going', 'say', 'really']\n",
      "topic94\n",
      "['party', 'invitation', 'invite', 'birthday', 'friend', 'go', 'people', 'store', 'list', 'would', 'want', 'buy', 'get', 'decide', 'pick']\n",
      "topic95\n",
      "['vacuum', 'carpet', 'closet', 'get', 'plug', 'room', 'back', 'sure', 'make', 'house', 'turn', 'cord', 'move', 'furniture', 'living']\n",
      "topic96\n",
      "['iron', 'ironing', 'shirt', 'board', 'pants', 'wrinkle', 'clothes', 'get', 'put', 'heat', 'take', 'set', 'steam', 'need', 'place']\n",
      "topic97\n",
      "['family', 'would', 'date', 'go', 'nice', 'like', 'person', 'people', 'see', 'time', 'good', 'make', 'one', 'take', 'know']\n",
      "topic98\n",
      "['make', 'would', 'jenny', 'time', 'day', 'want', 'next', 'decide', 'live', 'weekend', 'chili', 'restaurant', 'problem', 'spend', 'call']\n",
      "topic99\n",
      "['lawn', 'mower', 'cup', 'mow', 'grass', 'yard', 'back', 'start', 'gas', 'go', 'pull', 'put', 'turn', 'push', 'cut']\n"
     ]
    }
   ],
   "source": [
    "# top words for each topic\n",
    "for topic in model_artm.score_tracker[\"top_words\"].last_tokens:\n",
    "    print(topic)\n",
    "    print(model_artm.score_tracker[\"top_words\"].last_tokens[topic])"
   ]
  },
  {
   "cell_type": "code",
   "execution_count": 73,
   "metadata": {
    "collapsed": true
   },
   "outputs": [],
   "source": [
    "# saving the model\n",
    "model_artm.save(\"model_1\")"
   ]
  },
  {
   "cell_type": "code",
   "execution_count": 74,
   "metadata": {},
   "outputs": [
    {
     "data": {
      "text/html": [
       "<div>\n",
       "<style>\n",
       "    .dataframe thead tr:only-child th {\n",
       "        text-align: right;\n",
       "    }\n",
       "\n",
       "    .dataframe thead th {\n",
       "        text-align: left;\n",
       "    }\n",
       "\n",
       "    .dataframe tbody tr th {\n",
       "        vertical-align: top;\n",
       "    }\n",
       "</style>\n",
       "<table border=\"1\" class=\"dataframe\">\n",
       "  <thead>\n",
       "    <tr style=\"text-align: right;\">\n",
       "      <th></th>\n",
       "      <th>Probability</th>\n",
       "    </tr>\n",
       "  </thead>\n",
       "  <tbody>\n",
       "    <tr>\n",
       "      <th>topic33</th>\n",
       "      <td>0.024480</td>\n",
       "    </tr>\n",
       "    <tr>\n",
       "      <th>topic90</th>\n",
       "      <td>0.021954</td>\n",
       "    </tr>\n",
       "    <tr>\n",
       "      <th>topic26</th>\n",
       "      <td>0.020483</td>\n",
       "    </tr>\n",
       "    <tr>\n",
       "      <th>topic37</th>\n",
       "      <td>0.017545</td>\n",
       "    </tr>\n",
       "    <tr>\n",
       "      <th>topic82</th>\n",
       "      <td>0.016841</td>\n",
       "    </tr>\n",
       "    <tr>\n",
       "      <th>topic1</th>\n",
       "      <td>0.016512</td>\n",
       "    </tr>\n",
       "    <tr>\n",
       "      <th>topic39</th>\n",
       "      <td>0.015871</td>\n",
       "    </tr>\n",
       "    <tr>\n",
       "      <th>topic54</th>\n",
       "      <td>0.014736</td>\n",
       "    </tr>\n",
       "    <tr>\n",
       "      <th>topic32</th>\n",
       "      <td>0.014322</td>\n",
       "    </tr>\n",
       "    <tr>\n",
       "      <th>topic83</th>\n",
       "      <td>0.014007</td>\n",
       "    </tr>\n",
       "    <tr>\n",
       "      <th>topic71</th>\n",
       "      <td>0.013946</td>\n",
       "    </tr>\n",
       "    <tr>\n",
       "      <th>topic86</th>\n",
       "      <td>0.013887</td>\n",
       "    </tr>\n",
       "    <tr>\n",
       "      <th>topic93</th>\n",
       "      <td>0.013834</td>\n",
       "    </tr>\n",
       "    <tr>\n",
       "      <th>topic70</th>\n",
       "      <td>0.013819</td>\n",
       "    </tr>\n",
       "    <tr>\n",
       "      <th>topic87</th>\n",
       "      <td>0.013767</td>\n",
       "    </tr>\n",
       "    <tr>\n",
       "      <th>topic0</th>\n",
       "      <td>0.013565</td>\n",
       "    </tr>\n",
       "    <tr>\n",
       "      <th>topic92</th>\n",
       "      <td>0.013482</td>\n",
       "    </tr>\n",
       "    <tr>\n",
       "      <th>topic55</th>\n",
       "      <td>0.013281</td>\n",
       "    </tr>\n",
       "    <tr>\n",
       "      <th>topic69</th>\n",
       "      <td>0.013178</td>\n",
       "    </tr>\n",
       "    <tr>\n",
       "      <th>topic65</th>\n",
       "      <td>0.012842</td>\n",
       "    </tr>\n",
       "    <tr>\n",
       "      <th>topic76</th>\n",
       "      <td>0.012278</td>\n",
       "    </tr>\n",
       "    <tr>\n",
       "      <th>topic21</th>\n",
       "      <td>0.012199</td>\n",
       "    </tr>\n",
       "    <tr>\n",
       "      <th>topic49</th>\n",
       "      <td>0.012004</td>\n",
       "    </tr>\n",
       "    <tr>\n",
       "      <th>topic38</th>\n",
       "      <td>0.011728</td>\n",
       "    </tr>\n",
       "    <tr>\n",
       "      <th>topic23</th>\n",
       "      <td>0.011491</td>\n",
       "    </tr>\n",
       "    <tr>\n",
       "      <th>topic97</th>\n",
       "      <td>0.011441</td>\n",
       "    </tr>\n",
       "    <tr>\n",
       "      <th>topic78</th>\n",
       "      <td>0.011415</td>\n",
       "    </tr>\n",
       "    <tr>\n",
       "      <th>topic12</th>\n",
       "      <td>0.011320</td>\n",
       "    </tr>\n",
       "    <tr>\n",
       "      <th>topic45</th>\n",
       "      <td>0.011252</td>\n",
       "    </tr>\n",
       "    <tr>\n",
       "      <th>topic94</th>\n",
       "      <td>0.011047</td>\n",
       "    </tr>\n",
       "    <tr>\n",
       "      <th>...</th>\n",
       "      <td>...</td>\n",
       "    </tr>\n",
       "    <tr>\n",
       "      <th>topic30</th>\n",
       "      <td>0.007889</td>\n",
       "    </tr>\n",
       "    <tr>\n",
       "      <th>topic24</th>\n",
       "      <td>0.007731</td>\n",
       "    </tr>\n",
       "    <tr>\n",
       "      <th>topic48</th>\n",
       "      <td>0.007701</td>\n",
       "    </tr>\n",
       "    <tr>\n",
       "      <th>topic96</th>\n",
       "      <td>0.007619</td>\n",
       "    </tr>\n",
       "    <tr>\n",
       "      <th>topic64</th>\n",
       "      <td>0.007445</td>\n",
       "    </tr>\n",
       "    <tr>\n",
       "      <th>topic9</th>\n",
       "      <td>0.007205</td>\n",
       "    </tr>\n",
       "    <tr>\n",
       "      <th>topic72</th>\n",
       "      <td>0.007144</td>\n",
       "    </tr>\n",
       "    <tr>\n",
       "      <th>topic68</th>\n",
       "      <td>0.007072</td>\n",
       "    </tr>\n",
       "    <tr>\n",
       "      <th>topic89</th>\n",
       "      <td>0.007049</td>\n",
       "    </tr>\n",
       "    <tr>\n",
       "      <th>topic73</th>\n",
       "      <td>0.007000</td>\n",
       "    </tr>\n",
       "    <tr>\n",
       "      <th>topic13</th>\n",
       "      <td>0.006954</td>\n",
       "    </tr>\n",
       "    <tr>\n",
       "      <th>topic6</th>\n",
       "      <td>0.006802</td>\n",
       "    </tr>\n",
       "    <tr>\n",
       "      <th>topic63</th>\n",
       "      <td>0.006765</td>\n",
       "    </tr>\n",
       "    <tr>\n",
       "      <th>topic67</th>\n",
       "      <td>0.006708</td>\n",
       "    </tr>\n",
       "    <tr>\n",
       "      <th>topic10</th>\n",
       "      <td>0.006705</td>\n",
       "    </tr>\n",
       "    <tr>\n",
       "      <th>topic98</th>\n",
       "      <td>0.006322</td>\n",
       "    </tr>\n",
       "    <tr>\n",
       "      <th>topic57</th>\n",
       "      <td>0.006183</td>\n",
       "    </tr>\n",
       "    <tr>\n",
       "      <th>topic91</th>\n",
       "      <td>0.006142</td>\n",
       "    </tr>\n",
       "    <tr>\n",
       "      <th>topic11</th>\n",
       "      <td>0.006021</td>\n",
       "    </tr>\n",
       "    <tr>\n",
       "      <th>topic14</th>\n",
       "      <td>0.005858</td>\n",
       "    </tr>\n",
       "    <tr>\n",
       "      <th>topic77</th>\n",
       "      <td>0.005669</td>\n",
       "    </tr>\n",
       "    <tr>\n",
       "      <th>topic61</th>\n",
       "      <td>0.005651</td>\n",
       "    </tr>\n",
       "    <tr>\n",
       "      <th>topic85</th>\n",
       "      <td>0.005610</td>\n",
       "    </tr>\n",
       "    <tr>\n",
       "      <th>topic15</th>\n",
       "      <td>0.005428</td>\n",
       "    </tr>\n",
       "    <tr>\n",
       "      <th>topic79</th>\n",
       "      <td>0.005404</td>\n",
       "    </tr>\n",
       "    <tr>\n",
       "      <th>topic50</th>\n",
       "      <td>0.005338</td>\n",
       "    </tr>\n",
       "    <tr>\n",
       "      <th>topic3</th>\n",
       "      <td>0.004846</td>\n",
       "    </tr>\n",
       "    <tr>\n",
       "      <th>topic19</th>\n",
       "      <td>0.004677</td>\n",
       "    </tr>\n",
       "    <tr>\n",
       "      <th>topic4</th>\n",
       "      <td>0.004610</td>\n",
       "    </tr>\n",
       "    <tr>\n",
       "      <th>topic17</th>\n",
       "      <td>0.004173</td>\n",
       "    </tr>\n",
       "  </tbody>\n",
       "</table>\n",
       "<p>100 rows × 1 columns</p>\n",
       "</div>"
      ],
      "text/plain": [
       "         Probability\n",
       "topic33     0.024480\n",
       "topic90     0.021954\n",
       "topic26     0.020483\n",
       "topic37     0.017545\n",
       "topic82     0.016841\n",
       "topic1      0.016512\n",
       "topic39     0.015871\n",
       "topic54     0.014736\n",
       "topic32     0.014322\n",
       "topic83     0.014007\n",
       "topic71     0.013946\n",
       "topic86     0.013887\n",
       "topic93     0.013834\n",
       "topic70     0.013819\n",
       "topic87     0.013767\n",
       "topic0      0.013565\n",
       "topic92     0.013482\n",
       "topic55     0.013281\n",
       "topic69     0.013178\n",
       "topic65     0.012842\n",
       "topic76     0.012278\n",
       "topic21     0.012199\n",
       "topic49     0.012004\n",
       "topic38     0.011728\n",
       "topic23     0.011491\n",
       "topic97     0.011441\n",
       "topic78     0.011415\n",
       "topic12     0.011320\n",
       "topic45     0.011252\n",
       "topic94     0.011047\n",
       "...              ...\n",
       "topic30     0.007889\n",
       "topic24     0.007731\n",
       "topic48     0.007701\n",
       "topic96     0.007619\n",
       "topic64     0.007445\n",
       "topic9      0.007205\n",
       "topic72     0.007144\n",
       "topic68     0.007072\n",
       "topic89     0.007049\n",
       "topic73     0.007000\n",
       "topic13     0.006954\n",
       "topic6      0.006802\n",
       "topic63     0.006765\n",
       "topic67     0.006708\n",
       "topic10     0.006705\n",
       "topic98     0.006322\n",
       "topic57     0.006183\n",
       "topic91     0.006142\n",
       "topic11     0.006021\n",
       "topic14     0.005858\n",
       "topic77     0.005669\n",
       "topic61     0.005651\n",
       "topic85     0.005610\n",
       "topic15     0.005428\n",
       "topic79     0.005404\n",
       "topic50     0.005338\n",
       "topic3      0.004846\n",
       "topic19     0.004677\n",
       "topic4      0.004610\n",
       "topic17     0.004173\n",
       "\n",
       "[100 rows x 1 columns]"
      ]
     },
     "execution_count": 74,
     "metadata": {},
     "output_type": "execute_result"
    }
   ],
   "source": [
    "topic_probabilities = []\n",
    "for i, topic in enumerate(model_artm.topic_names):\n",
    "    topic_probabilities.append(sum(theta.as_matrix()[i])/len(theta.as_matrix()[i]))\n",
    "\n",
    "probability_df = pd.DataFrame(columns=[\"Probability\"], index=model_artm.topic_names, data=topic_probabilities)\n",
    "probability_df.sort_values(\"Probability\", ascending=False)"
   ]
  },
  {
   "cell_type": "markdown",
   "metadata": {},
   "source": [
    "We can see here that __topic4__ has the biggest probability across all documents, especially compared to all others: around 69%. From top tokens, contained in this topic, we see that it's a topic with commonly used verbs and other parts of speech. Other similar topics include __topic0__ and __topic10__. Therefore, I can try to take the next best possibility for each document, disregarding the one for these three topics."
   ]
  },
  {
   "cell_type": "code",
   "execution_count": 75,
   "metadata": {
    "collapsed": true
   },
   "outputs": [],
   "source": [
    "def get_text_by_id(text_id, data):\n",
    "    text = {}\n",
    "    for instance in data:\n",
    "        if instance['text_id'] == text_id:\n",
    "            text['text_id'] = text_id\n",
    "            text['text'] = instance['text']\n",
    "            break\n",
    "    return text"
   ]
  },
  {
   "cell_type": "code",
   "execution_count": 76,
   "metadata": {
    "collapsed": true
   },
   "outputs": [],
   "source": [
    "#mapping to separate data-s\n",
    "train_topic2docs = {}\n",
    "dev_topic2docs = {}\n",
    "test_topic2docs = {}\n",
    "for col in theta.columns:\n",
    "    max_proba = max(theta.loc[:,col])\n",
    "    best_topic = theta.loc[theta[col] == max_proba].index\n",
    "    if 'train' in col:\n",
    "        current_text = get_text_by_id(col[5:], train_data)\n",
    "        if best_topic[0] not in train_topic2docs:\n",
    "            train_topic2docs[best_topic[0]] = []\n",
    "            train_topic2docs[best_topic[0]].append(current_text)\n",
    "        else:\n",
    "            train_topic2docs[best_topic[0]].append(current_text)\n",
    "    elif 'dev' in col:\n",
    "        current_text = get_text_by_id(col[3:], dev_data)\n",
    "        if best_topic[0] not in dev_topic2docs:\n",
    "            dev_topic2docs[best_topic[0]] = []\n",
    "            dev_topic2docs[best_topic[0]].append(current_text)\n",
    "        else:\n",
    "            dev_topic2docs[best_topic[0]].append(current_text)\n",
    "    elif 'test' in col:\n",
    "        current_text = get_text_by_id(col[4:], test_data)\n",
    "        if best_topic[0] not in test_topic2docs:\n",
    "            test_topic2docs[best_topic[0]] = []\n",
    "            test_topic2docs[best_topic[0]].append(current_text)\n",
    "        else:\n",
    "            test_topic2docs[best_topic[0]].append(current_text)"
   ]
  },
  {
   "cell_type": "code",
   "execution_count": 78,
   "metadata": {
    "collapsed": true,
    "scrolled": true
   },
   "outputs": [],
   "source": [
    "# mapping from topics to texts\n",
    "# {topic: [{text_id:text, ...}], topic: ...}\n",
    "topic2docs = {}\n",
    "for col in theta.columns:\n",
    "    max_proba = max(theta.loc[:,col])\n",
    "    best_topic = theta.loc[theta[col] == max_proba].index\n",
    "    if best_topic[0] not in topic2docs:\n",
    "        topic2docs[best_topic[0]] = []\n",
    "        topic2docs[best_topic[0]].append(col)\n",
    "    else:\n",
    "        topic2docs[best_topic[0]].append(col)"
   ]
  },
  {
   "cell_type": "code",
   "execution_count": 81,
   "metadata": {},
   "outputs": [
    {
     "data": {
      "image/png": "[encoded data removed]",
      "text/plain": [
       "<matplotlib.figure.Figure at 0x112795a58>"
      ]
     },
     "metadata": {},
     "output_type": "display_data"
    }
   ],
   "source": [
    "lens = [len(value) for value in topic2docs.values()]\n",
    "plt.barh([i for i in range(len(topic2docs.keys()))], lens)\n",
    "plt.savefig(\"fig_0.png\")"
   ]
  },
  {
   "cell_type": "markdown",
   "metadata": {},
   "source": [
    "Here is the new distribution for document per topic. __Topic7__ is prevalent but it's not as bad as before."
   ]
  },
  {
   "cell_type": "code",
   "execution_count": 87,
   "metadata": {},
   "outputs": [
    {
     "data": {
      "text/plain": [
       "<Container object of 96 artists>"
      ]
     },
     "execution_count": 87,
     "metadata": {},
     "output_type": "execute_result"
    },
    {
     "data": {
      "image/png": "[encoded data removed]",
      "text/plain": [
       "<matplotlib.figure.Figure at 0x112593ba8>"
      ]
     },
     "metadata": {},
     "output_type": "display_data"
    }
   ],
   "source": [
    "lens = [len(value) for value in test_topic2docs.values()]\n",
    "keys = len(test_topic2docs.keys())\n",
    "plt.barh([i for i in range(keys)], lens, tick_label = test_topic2docs.keys())"
   ]
  },
  {
   "cell_type": "markdown",
   "metadata": {},
   "source": [
    "#### Choosing an answer given texts from the same cluster"
   ]
  },
  {
   "cell_type": "code",
   "execution_count": 82,
   "metadata": {
    "collapsed": true
   },
   "outputs": [],
   "source": [
    "# a method to choose answer from the original text AND from texts from the same cluster\n",
    "# answer as dictionary, original text as list of strings, similar_texts as one list of strings\n",
    "def choose_answer_v2(original_text, similar_texts, answers):\n",
    "    original_answer = choose_answer(original_text, answers)\n",
    "    #if we don't find the answer in the original text\n",
    "    if original_answer[1] == 0:\n",
    "        similar_answer = choose_answer(similar_texts, answers)\n",
    "        return similar_answer\n",
    "    else:\n",
    "        return original_answer"
   ]
  },
  {
   "cell_type": "code",
   "execution_count": 83,
   "metadata": {
    "collapsed": true
   },
   "outputs": [],
   "source": [
    "def get_topic_by_text_id(text_id, topic2docs):\n",
    "    for topic in topic2docs.keys():\n",
    "        for text in topic2docs[topic]:\n",
    "            if text['text_id'] == text_id:\n",
    "                return topic\n",
    "\n",
    "def get_topic_texts(topic, topic2docs):\n",
    "    texts_list = topic2docs[topic]\n",
    "    texts = []\n",
    "    for text in texts_list:\n",
    "        texts += text['text']\n",
    "    return texts"
   ]
  },
  {
   "cell_type": "code",
   "execution_count": 84,
   "metadata": {
    "collapsed": true
   },
   "outputs": [],
   "source": [
    "def run_v2(data, topic2docs, choose_answer_function):\n",
    "    results = []\n",
    "    for instance in data:\n",
    "        instance_topic = get_topic_by_text_id(instance['text_id'], topic2docs)\n",
    "        similar_texts = get_topic_texts(instance_topic, topic2docs)\n",
    "        for question in instance['questions']:\n",
    "            correct_answers = choose_answer_function(instance['text'], similar_texts, question['answers'])[0]\n",
    "            question_results = [instance['text_id'], question['question_id'], correct_answers]\n",
    "            results.append(question_results)\n",
    "    return results"
   ]
  },
  {
   "cell_type": "code",
   "execution_count": 86,
   "metadata": {},
   "outputs": [
    {
     "name": "stdout",
     "output_type": "stream",
     "text": [
      "BigARTM train accuracy: 61.59695817490495\n",
      "BigARTM dev accuracy: 61.51665485471297\n",
      "BigARTM test accuracy: 61.315695387915625\n"
     ]
    }
   ],
   "source": [
    "train_with_bigARTM = run_v2(train_data, train_topic2docs, choose_answer_v2)\n",
    "print(\"BigARTM train accuracy: \" + str(evaluate(train_with_bigARTM, gold_train)[0]))\n",
    "dev_with_bigARTM = run_v2(dev_data, dev_topic2docs, choose_answer_v2)\n",
    "print(\"BigARTM dev accuracy: \" + str(evaluate(dev_with_bigARTM, gold_dev)[0]))\n",
    "test_with_bigARTM = run_v2(test_data, test_topic2docs, choose_answer_v2)\n",
    "print(\"BigARTM test accuracy: \" + str(evaluate(test_with_bigARTM, gold_test)[0]))"
   ]
  },
  {
   "cell_type": "code",
   "execution_count": 436,
   "metadata": {},
   "outputs": [
    {
     "name": "stdout",
     "output_type": "stream",
     "text": [
      "First 10 incorrent answers:\n"
     ]
    },
    {
     "data": {
      "text/plain": [
       "[['0', '5', '0'],\n",
       " ['1', '1', '0'],\n",
       " ['1', '3', '1'],\n",
       " ['1', '4', '1'],\n",
       " ['1', '7', '0'],\n",
       " ['2', '0', '1'],\n",
       " ['3', '0', '0'],\n",
       " ['4', '0', '1'],\n",
       " ['4', '1', '0'],\n",
       " ['4', '3', '1']]"
      ]
     },
     "execution_count": 436,
     "metadata": {},
     "output_type": "execute_result"
    }
   ],
   "source": [
    "print(\"First 10 incorrent answers:\")\n",
    "tup_with_bigARTM[1][:10]"
   ]
  },
  {
   "cell_type": "markdown",
   "metadata": {},
   "source": [
    "### Part 3. Answering Using Related Script Knowledge\n",
    "terminology: _topic-script_ is a topic section from DeScript, e.g. baking a cake, flying in an airplane\n",
    "- mapping text to topic-script\n",
    "- finding answer in the topic-script\n",
    "\n",
    "_IDEA_: doc similarity between topic-script and given text with Doc2Vec<br>\n",
    "_IDEA_: map text to a specific event from the scripts\n",
    "\n"
   ]
  },
  {
   "cell_type": "markdown",
   "metadata": {},
   "source": [
    "#### Defining Similarity Between Given Text and Topic-Script"
   ]
  },
  {
   "cell_type": "code",
   "execution_count": 92,
   "metadata": {
    "collapsed": true
   },
   "outputs": [],
   "source": [
    "# helper method - from tuples to dictionary\n",
    "def tuple_to_dict(some_list):\n",
    "    new_list = {}\n",
    "    for pair in some_list:\n",
    "        new_list[pair[0]] = pair[1]\n",
    "    return new_list"
   ]
  },
  {
   "cell_type": "code",
   "execution_count": 93,
   "metadata": {},
   "outputs": [],
   "source": [
    "# finding frequencies for topics and scaling them by number of documents\n",
    "topic_vectors = {}\n",
    "for topic in topics.keys():\n",
    "    topic_vectors[topic] = {}\n",
    "    meaningful_words = list(filter(lambda x: x not in stopwords, topics[topic]))\n",
    "    words = tuple_to_dict(nltk.FreqDist(meaningful_words).most_common(12))\n",
    "    \n",
    "    current_docs = topic_docs[topic]\n",
    "    for word in words:\n",
    "        number_of_docs = 0\n",
    "        for doc in current_docs:\n",
    "            if word in doc:\n",
    "                number_of_docs += 1\n",
    "        topic_vectors[topic][word] = words[word]/number_of_docs"
   ]
  },
  {
   "cell_type": "code",
   "execution_count": 94,
   "metadata": {
    "collapsed": true
   },
   "outputs": [],
   "source": [
    "#getting all texts and cleaning\n",
    "clean_all_texts = []\n",
    "for text in all_texts:\n",
    "    ind = text[0].index(\"|\")\n",
    "    clean_all_texts.append([text[0][ind+6:]])"
   ]
  },
  {
   "cell_type": "code",
   "execution_count": 95,
   "metadata": {
    "collapsed": true
   },
   "outputs": [],
   "source": [
    "#getting frequencies for words in all documents\n",
    "full_texts = []\n",
    "full_texts = np.append(full_texts, clean_all_texts)\n",
    "just_text = \" \".join(full_texts)\n",
    "words = nltk.tokenize.word_tokenize(just_text)\n",
    "fd = nltk.FreqDist(words)\n"
   ]
  },
  {
   "cell_type": "code",
   "execution_count": 96,
   "metadata": {
    "collapsed": true
   },
   "outputs": [],
   "source": [
    "# cleaning and finding frequencies for given text\n",
    "def get_text_vector(text):\n",
    "    meaningful_words = list(filter(lambda x: x not in stopwords, text))\n",
    "    text_vector = tuple_to_dict(nltk.FreqDist(meaningful_words).most_common(12))\n",
    "    for word, freq in text_vector.items():\n",
    "        if word in fd:\n",
    "            text_vector[word] = freq/(fd[word])\n",
    "    return text_vector"
   ]
  },
  {
   "cell_type": "code",
   "execution_count": 97,
   "metadata": {
    "collapsed": true
   },
   "outputs": [],
   "source": [
    "import math\n",
    "# cosine similarity function to compare two vectors with frequencies\n",
    "def cosine_similarity(topic_vector, text_vector):\n",
    "    \n",
    "    topic_sum = 0\n",
    "    text_sum = 0\n",
    "    dot_product = 0\n",
    "    \n",
    "    for word in topic_vector:\n",
    "        topic_sum += (topic_vector[word]**2)\n",
    "        if word in text_vector.keys():\n",
    "            text_sum += (text_vector[word]**2)\n",
    "            dot_product += (topic_vector[word] * text_vector[word])\n",
    "    topic_norm = math.sqrt(topic_sum)\n",
    "    text_norm = math.sqrt(text_sum)\n",
    "    \n",
    "    if topic_norm * text_norm == 0:\n",
    "        return 0\n",
    "    else:\n",
    "        return dot_product/(topic_norm * text_norm)"
   ]
  },
  {
   "cell_type": "code",
   "execution_count": 98,
   "metadata": {
    "collapsed": true
   },
   "outputs": [],
   "source": [
    "# returns most similar topic\n",
    "def get_topic(text, topic_vectors):\n",
    "    topic_scores = {}\n",
    "    for topic in topic_vectors.keys():\n",
    "        csim = cosine_similarity(topic_vectors[topic], get_text_vector(text))\n",
    "        topic_scores[topic] = csim\n",
    "    return max(topic_scores.items(), key=lambda k: k[1])"
   ]
  },
  {
   "cell_type": "markdown",
   "metadata": {},
   "source": [
    "#### Answering Using Topic-Scripts"
   ]
  },
  {
   "cell_type": "code",
   "execution_count": 99,
   "metadata": {
    "collapsed": true
   },
   "outputs": [],
   "source": [
    "def run_v3(data, topic_vectors, topics, choose_answer_function):\n",
    "    results = []\n",
    "    for instance in data:\n",
    "        for question in instance['questions']:\n",
    "            current_topic = get_topic(instance['text'], topic_vectors)[0]\n",
    "            correct_answer = choose_answer_function(instance['text'], topics[current_topic], question['answers'])[0]\n",
    "            results.append([instance['text_id'], question['question_id'], correct_answer])\n",
    "    return results"
   ]
  },
  {
   "cell_type": "code",
   "execution_count": 103,
   "metadata": {
    "collapsed": true
   },
   "outputs": [],
   "source": [
    "res_with_scripts = run_v3(train_data, topic_vectors, topics, choose_answer_v2)"
   ]
  },
  {
   "cell_type": "code",
   "execution_count": 104,
   "metadata": {},
   "outputs": [
    {
     "name": "stdout",
     "output_type": "stream",
     "text": [
      "Accuracy using topic-scripts:\n",
      "60.41516801973076\n"
     ]
    }
   ],
   "source": [
    "tup_scripts = evaluate(res_with_scripts, ideal_results_train)\n",
    "print(\"Accuracy using topic-scripts:\")\n",
    "print(tup_scripts[0])"
   ]
  },
  {
   "cell_type": "code",
   "execution_count": 105,
   "metadata": {},
   "outputs": [
    {
     "data": {
      "text/plain": [
       "59.67399007795889"
      ]
     },
     "execution_count": 105,
     "metadata": {},
     "output_type": "execute_result"
    }
   ],
   "source": [
    "dev_res_scripts = run_v3(dev_data, topic_vectors, topics, choose_answer_v2)\n",
    "evaluate(dev_res_scripts, ideal_results_dev)[0]"
   ]
  },
  {
   "cell_type": "markdown",
   "metadata": {},
   "source": [
    "### Part 4. Clustering with Doc2Vec"
   ]
  },
  {
   "cell_type": "markdown",
   "metadata": {},
   "source": [
    "- part 1: embed texts with Doc2Vec\n",
    "- part 2: cluster embedded representations with KMeans (or other clustering methods)\n",
    "- part 3: cluster - texts mapping\n",
    "- part 4: choose answer, using a given text and texts from the same cluster\n",
    "\n",
    "_Inspired by_: https://towardsdatascience.com/automatic-topic-clustering-using-doc2vec-e1cea88449c"
   ]
  },
  {
   "cell_type": "markdown",
   "metadata": {},
   "source": [
    "#### Training Doc2Vec and Inferring Vectors for all Texts"
   ]
  },
  {
   "cell_type": "code",
   "execution_count": 88,
   "metadata": {},
   "outputs": [
    {
     "name": "stderr",
     "output_type": "stream",
     "text": [
      "/Users/Sonya/anaconda/lib/python3.6/site-packages/scipy/sparse/sparsetools.py:20: DeprecationWarning: `scipy.sparse.sparsetools` is deprecated!\n",
      "scipy.sparse.sparsetools is a private module for scipy.sparse, and should not be used.\n",
      "  _deprecated()\n"
     ]
    }
   ],
   "source": [
    "import gensim\n",
    "from gensim.models.doc2vec import TaggedDocument, Doc2Vec"
   ]
  },
  {
   "cell_type": "code",
   "execution_count": 108,
   "metadata": {},
   "outputs": [],
   "source": [
    "data = []\n",
    "for t in clean_all_texts:\n",
    "    data.append(nltk.tokenize.word_tokenize(t[0]))"
   ]
  },
  {
   "cell_type": "code",
   "execution_count": 101,
   "metadata": {
    "collapsed": true
   },
   "outputs": [],
   "source": [
    "additional_texts_from_descript = []\n",
    "for topic in topics:\n",
    "    l = len(topics[topic])\n",
    "    data.append(topics[topic][:int(l/3)])\n",
    "    data.append(topics[topic][int(l/3):int(l-(l/3))])\n",
    "    data.append(topics[topic][int(l-(l/3)):])\n"
   ]
  },
  {
   "cell_type": "code",
   "execution_count": 109,
   "metadata": {
    "collapsed": true
   },
   "outputs": [],
   "source": [
    "class Documents(object):\n",
    "    def __init__(self, documents):\n",
    "        self.documents = documents\n",
    "\n",
    "    def __iter__(self):\n",
    "        for i, doc in enumerate(self.documents):\n",
    "            yield TaggedDocument(words = doc, tags = [i])"
   ]
  },
  {
   "cell_type": "code",
   "execution_count": 110,
   "metadata": {
    "collapsed": true
   },
   "outputs": [],
   "source": [
    "documents = Documents(data)"
   ]
  },
  {
   "cell_type": "code",
   "execution_count": 111,
   "metadata": {},
   "outputs": [
    {
     "name": "stdout",
     "output_type": "stream",
     "text": [
      "epoch 0\n",
      "epoch 1\n",
      "epoch 2\n",
      "epoch 3\n",
      "epoch 4\n",
      "epoch 5\n",
      "epoch 6\n",
      "epoch 7\n",
      "epoch 8\n",
      "epoch 9\n",
      "epoch 10\n",
      "epoch 11\n",
      "epoch 12\n",
      "epoch 13\n",
      "epoch 14\n",
      "epoch 15\n",
      "epoch 16\n",
      "epoch 17\n",
      "epoch 18\n",
      "epoch 19\n",
      "done training\n"
     ]
    }
   ],
   "source": [
    "# training the model\n",
    "count = len(data)\n",
    "model = Doc2Vec(size=100, dbow_words= 1, dm=0, iter=1,  window=10, seed=1337, min_count=5, workers=4,alpha=0.025, min_alpha=0.025)\n",
    "model.build_vocab(documents)\n",
    "for epoch in range(20):\n",
    "    print(\"epoch \"+str(epoch))\n",
    "    model.train(documents, total_examples=count, epochs=1)\n",
    "    model.save('commonSense.model')\n",
    "    model.alpha -= 0.002  # decrease the learning rate\n",
    "    model.min_alpha = model.alpha  # fix the learning rate, no decay\n",
    "print(\"done training\")"
   ]
  },
  {
   "cell_type": "code",
   "execution_count": 113,
   "metadata": {
    "collapsed": true
   },
   "outputs": [],
   "source": [
    "# inferring vectors\n",
    "vectors = []\n",
    "for d in data:\n",
    "    vectors.append(model.infer_vector(d))"
   ]
  },
  {
   "cell_type": "markdown",
   "metadata": {},
   "source": [
    "#### Clustering Using KMeans"
   ]
  },
  {
   "cell_type": "code",
   "execution_count": 114,
   "metadata": {
    "collapsed": true
   },
   "outputs": [],
   "source": [
    "from nltk.cluster.kmeans import KMeansClusterer\n",
    "from collections import Counter"
   ]
  },
  {
   "cell_type": "code",
   "execution_count": 115,
   "metadata": {},
   "outputs": [],
   "source": [
    "kclusterer = KMeansClusterer(T, distance=nltk.cluster.util.cosine_distance, repeats=20)\n",
    "assigned_clusters = kclusterer.cluster(vectors, assign_clusters=True)"
   ]
  },
  {
   "cell_type": "code",
   "execution_count": 116,
   "metadata": {},
   "outputs": [
    {
     "data": {
      "image/png": "[encoded data removed]",
      "text/plain": [
       "<matplotlib.figure.Figure at 0x119dab550>"
      ]
     },
     "metadata": {},
     "output_type": "display_data"
    }
   ],
   "source": [
    "# distribution of clusters per all 2119 texts (from train, dev and test combined)\n",
    "cnt = Counter(assigned_clusters)\n",
    "plt.barh([i for i in range(len(cnt.keys()))], [value for value in cnt.values()])\n",
    "plt.savefig(\"fig_1.png\")"
   ]
  },
  {
   "cell_type": "markdown",
   "metadata": {},
   "source": [
    "#### Text2Cluster/Cluster2Texts Mapping"
   ]
  },
  {
   "cell_type": "code",
   "execution_count": 117,
   "metadata": {},
   "outputs": [
    {
     "data": {
      "text/plain": [
       "37"
      ]
     },
     "execution_count": 117,
     "metadata": {},
     "output_type": "execute_result"
    }
   ],
   "source": [
    "# mapping from assigned clusters to actual text_ids from all_texts\n",
    "mapping_text2cluster = {}\n",
    "for i in range(len(all_texts)):\n",
    "    cur_ind = all_texts[i][0].index(\"|\")\n",
    "    text_id = all_texts[i][0][:cur_ind-1]\n",
    "    mapping_text2cluster[text_id] = assigned_clusters[i]\n",
    "mapping_text2cluster['test429']"
   ]
  },
  {
   "cell_type": "code",
   "execution_count": 118,
   "metadata": {
    "collapsed": true
   },
   "outputs": [],
   "source": [
    "# mapping from cluster number to text_ids\n",
    "mapping_cluster2texts = {}\n",
    "for key,value in list(mapping_text2cluster.items()):\n",
    "    if value not in mapping_cluster2texts:\n",
    "        mapping_cluster2texts[value] = []\n",
    "        mapping_cluster2texts[value].append(key)\n",
    "    else:\n",
    "        mapping_cluster2texts[value].append(key)"
   ]
  },
  {
   "cell_type": "code",
   "execution_count": 140,
   "metadata": {},
   "outputs": [
    {
     "data": {
      "text/plain": [
       "[(75, 46), (38, 47), (6, 48)]"
      ]
     },
     "execution_count": 140,
     "metadata": {},
     "output_type": "execute_result"
    }
   ],
   "source": [
    "# most frequent clusters\n",
    "map_cluster_len = {}\n",
    "for key, value in mapping_cluster2texts.items():\n",
    "    map_cluster_len[key] = len(value)\n",
    "\n",
    "import operator\n",
    "sorted_len = sorted(map_cluster_len.items(), key=operator.itemgetter(1))\n",
    "sorted_len[-3:]"
   ]
  },
  {
   "cell_type": "code",
   "execution_count": 119,
   "metadata": {
    "collapsed": true
   },
   "outputs": [],
   "source": [
    "def get_text_from_mapping_id(mapping_id):\n",
    "    if 'train' in mapping_id:\n",
    "        text_id = mapping_id[5:]\n",
    "        return get_text_by_id(text_id, train_data)['text']\n",
    "    elif 'dev' in mapping_id:\n",
    "        text_id = mapping_id[3:]\n",
    "        return get_text_by_id(text_id, dev_data)['text']\n",
    "    elif 'test' in mapping_id:\n",
    "        text_id = mapping_id[4:]\n",
    "        return get_text_by_id(text_id, test_data)['text']\n",
    "    \n",
    "# returns list of lists (with texts divided into words)\n",
    "def get_all_texts_per_cluster(cluster_number, mapping_cluster2texts):\n",
    "    current_mapping_ids = mapping_cluster2texts[cluster_number]\n",
    "    texts_per_cluster = []\n",
    "    for map_id in current_mapping_ids:\n",
    "        texts_per_cluster.append(get_text_from_mapping_id(map_id))\n",
    "    return texts_per_cluster"
   ]
  },
  {
   "cell_type": "code",
   "execution_count": null,
   "metadata": {
    "collapsed": true
   },
   "outputs": [],
   "source": [
    "# TO BE MODIFIED TO GET CLEANED TEXTS\n",
    "def get_text_from_mapping_id(mapping_id):\n",
    "    if 'train' in mapping_id:\n",
    "        text_id = mapping_id[5:]\n",
    "        return get_text_by_id(text_id, train_data)['text']\n",
    "    elif 'dev' in mapping_id:\n",
    "        text_id = mapping_id[3:]\n",
    "        return get_text_by_id(text_id, dev_data)['text']\n",
    "    elif 'test' in mapping_id:\n",
    "        text_id = mapping_id[4:]\n",
    "        return get_text_by_id(text_id, test_data)['text']\n",
    "    \n",
    "# returns list of lists (with texts divided into words)\n",
    "def get_all_texts_per_cluster(cluster_number, mapping_cluster2texts):\n",
    "    current_mapping_ids = mapping_cluster2texts[cluster_number]\n",
    "    texts_per_cluster = []\n",
    "    for map_id in current_mapping_ids:\n",
    "        texts_per_cluster.append(get_text_from_mapping_id(map_id))\n",
    "    return texts_per_cluster"
   ]
  },
  {
   "cell_type": "code",
   "execution_count": 144,
   "metadata": {},
   "outputs": [
    {
     "name": "stdout",
     "output_type": "stream",
     "text": [
      "cluster 6: [('the', 703), ('i', 392), ('to', 325), ('and', 300), ('a', 226), ('it', 204), ('wall', 204), ('we', 156), ('paint', 150), ('of', 142), ('my', 128), ('in', 124), ('on', 119), ('be', 106), ('that', 94)]\n",
      "cluster 38: [('the', 760), ('i', 465), ('and', 321), ('bed', 261), ('sheet', 230), ('to', 225), ('of', 169), ('my', 160), ('on', 143), ('it', 142), ('pillow', 107), ('in', 97), ('put', 95), ('a', 91), ('them', 86)]\n",
      "cluster 75: [('the', 759), ('i', 446), ('and', 357), ('to', 203), ('dish', 199), ('in', 167), ('of', 148), ('a', 135), ('them', 123), ('be', 105), ('it', 104), ('put', 101), ('dishwasher', 90), ('with', 73), ('have', 73)]\n"
     ]
    }
   ],
   "source": [
    "# to find out top 15 tokens for 3 most frequent clusters\n",
    "print(\"cluster 6: \" + str(nltk.FreqDist(np.concatenate(get_all_texts_per_cluster(6, mapping_cluster2texts))).most_common(15)))\n",
    "print(\"cluster 38: \"  + str(nltk.FreqDist(np.concatenate(get_all_texts_per_cluster(38, mapping_cluster2texts))).most_common(15)))\n",
    "print(\"cluster 75: \" + str(nltk.FreqDist(np.concatenate(get_all_texts_per_cluster(75, mapping_cluster2texts))).most_common(15)))"
   ]
  },
  {
   "cell_type": "markdown",
   "metadata": {},
   "source": [
    "#### Choosing an Answer"
   ]
  },
  {
   "cell_type": "code",
   "execution_count": 120,
   "metadata": {
    "collapsed": true
   },
   "outputs": [],
   "source": [
    "def run_v5(data, mapping_cluster2texts, mapping_text2cluster, datatype_prefix):\n",
    "    results = []\n",
    "    for instance in data:\n",
    "        cluster_number = mapping_text2cluster[datatype_prefix + instance['text_id']]\n",
    "        similar_texts = np.concatenate(get_all_texts_per_cluster(cluster_number, mapping_cluster2texts))\n",
    "        for question in instance['questions']:\n",
    "            correct_answers = choose_answer_v2(instance['text'], similar_texts, question['answers'])[0]\n",
    "            question_results = [instance['text_id'], question['question_id'], correct_answers]\n",
    "            results.append(question_results)\n",
    "    return results"
   ]
  },
  {
   "cell_type": "markdown",
   "metadata": {},
   "source": [
    "Results for Doc2Vec/KMeans with train data"
   ]
  },
  {
   "cell_type": "code",
   "execution_count": 334,
   "metadata": {},
   "outputs": [
    {
     "data": {
      "text/plain": [
       "61.4633645051896"
      ]
     },
     "execution_count": 334,
     "metadata": {},
     "output_type": "execute_result"
    }
   ],
   "source": [
    "gensim_res_train = run_v5(train_data, mapping_cluster2texts, mapping_text2cluster, 'train')\n",
    "evaluate(gensim_res_train, ideal_results_train)[0]"
   ]
  },
  {
   "cell_type": "markdown",
   "metadata": {},
   "source": [
    "Results for Doc2Vec/KMeans with dev data"
   ]
  },
  {
   "cell_type": "code",
   "execution_count": 335,
   "metadata": {},
   "outputs": [
    {
     "data": {
      "text/plain": [
       "61.09142452161588"
      ]
     },
     "execution_count": 335,
     "metadata": {},
     "output_type": "execute_result"
    }
   ],
   "source": [
    "gensim_res_dev = run_v5(dev_data, mapping_cluster2texts, mapping_text2cluster, 'dev')\n",
    "evaluate(gensim_res_dev, ideal_results_dev)[0]"
   ]
  },
  {
   "cell_type": "code",
   "execution_count": 231,
   "metadata": {
    "collapsed": true
   },
   "outputs": [],
   "source": [
    "gensim_res_test = run_v5(test_data, mapping_cluster2texts, mapping_text2cluster, 'test')\n",
    "save_results(gensim_res_test)"
   ]
  },
  {
   "cell_type": "markdown",
   "metadata": {},
   "source": [
    "### Part 5. Choosing an Answer Based on Similarity\n",
    "- train doc2vec with sentences from texts, questions and answers\n",
    "- infer vectors for Q&As\n",
    "- score answers based on their similarity with the question"
   ]
  },
  {
   "cell_type": "markdown",
   "metadata": {},
   "source": [
    "#### Training Doc2Vec"
   ]
  },
  {
   "cell_type": "code",
   "execution_count": 340,
   "metadata": {
    "collapsed": true
   },
   "outputs": [],
   "source": [
    "from nltk.tokenize import sent_tokenize"
   ]
  },
  {
   "cell_type": "code",
   "execution_count": 347,
   "metadata": {
    "collapsed": true
   },
   "outputs": [],
   "source": [
    "def sentence_preprocessing(text):\n",
    "    sentences = sent_tokenize(text)\n",
    "    tokenized_sentences = []\n",
    "    for sent in sentences:\n",
    "        tokenized_sentences.append(preprocess_text(sent))\n",
    "    return tokenized_sentences"
   ]
  },
  {
   "cell_type": "code",
   "execution_count": 352,
   "metadata": {
    "collapsed": true
   },
   "outputs": [],
   "source": [
    "def xml2listData_v2(xml_data):\n",
    "    data = []\n",
    "    root = ET.XML(xml_data)\n",
    "    for child in root:\n",
    "        for subchild in child:\n",
    "            if subchild.tag == 'text':\n",
    "                data.append(sentence_preprocessing(subchild.text))\n",
    "            if subchild.tag == 'questions':\n",
    "                for question in subchild:\n",
    "                    data.append(sentence_preprocessing(question.attrib[\"text\"]))\n",
    "                    for answer in question:\n",
    "                        data.append(sentence_preprocessing(answer.attrib[\"text\"]))\n",
    "    return data"
   ]
  },
  {
   "cell_type": "code",
   "execution_count": 358,
   "metadata": {
    "collapsed": true
   },
   "outputs": [],
   "source": [
    "new_train = xml2listData_v2(xml_train)\n",
    "new_dev = xml2listData_v2(xml_dev)\n",
    "new_test = xml2listData_v2(xml_test)"
   ]
  },
  {
   "cell_type": "code",
   "execution_count": 371,
   "metadata": {
    "collapsed": true
   },
   "outputs": [],
   "source": [
    "all_sentences = []\n",
    "for el in np.concatenate([new_train, new_dev, new_test]):\n",
    "    for s in el:\n",
    "        all_sentences.append(s)"
   ]
  },
  {
   "cell_type": "code",
   "execution_count": 372,
   "metadata": {
    "collapsed": true
   },
   "outputs": [],
   "source": [
    "class Documents(object):\n",
    "    def __init__(self, documents):\n",
    "        self.documents = documents\n",
    "\n",
    "    def __iter__(self):\n",
    "        for i, doc in enumerate(self.documents):\n",
    "            yield TaggedDocument(words = doc, tags = [i])"
   ]
  },
  {
   "cell_type": "code",
   "execution_count": 374,
   "metadata": {
    "collapsed": true
   },
   "outputs": [],
   "source": [
    "doc_sentences = Documents(all_sentences)"
   ]
  },
  {
   "cell_type": "code",
   "execution_count": 376,
   "metadata": {},
   "outputs": [
    {
     "name": "stdout",
     "output_type": "stream",
     "text": [
      "epoch 0\n",
      "epoch 1\n",
      "epoch 2\n",
      "epoch 3\n",
      "epoch 4\n",
      "epoch 5\n",
      "epoch 6\n",
      "epoch 7\n",
      "epoch 8\n",
      "epoch 9\n",
      "epoch 10\n",
      "epoch 11\n",
      "epoch 12\n",
      "epoch 13\n",
      "epoch 14\n",
      "epoch 15\n",
      "epoch 16\n",
      "epoch 17\n",
      "epoch 18\n",
      "epoch 19\n",
      "done training\n"
     ]
    }
   ],
   "source": [
    "# training the model\n",
    "count = len(all_sentences)\n",
    "model_sim = Doc2Vec(size=40, dbow_words= 1, dm=0, iter=1,  window=8, seed=1337, min_count=5, workers=4,alpha=0.025, min_alpha=0.025)\n",
    "model_sim.build_vocab(doc_sentences)\n",
    "for epoch in range(20):\n",
    "    print(\"epoch \"+str(epoch))\n",
    "    model_sim.train(doc_sentences, total_examples=count, epochs=1)\n",
    "    model_sim.save('commonSense_sim.model')\n",
    "    model_sim.alpha -= 0.002  # decrease the learning rate\n",
    "    model_sim.min_alpha = model_sim.alpha  # fix the learning rate, no decay\n",
    "print(\"done training\")"
   ]
  },
  {
   "cell_type": "markdown",
   "metadata": {},
   "source": [
    "#### Inferring Vectors and Answering Questions"
   ]
  },
  {
   "cell_type": "code",
   "execution_count": 377,
   "metadata": {
    "collapsed": true
   },
   "outputs": [],
   "source": [
    "from sklearn.metrics import pairwise"
   ]
  },
  {
   "cell_type": "code",
   "execution_count": 426,
   "metadata": {
    "collapsed": true
   },
   "outputs": [],
   "source": [
    "def choose_answer_similarity(question, answers, model_sim):\n",
    "    question_vector = model_sim.infer_vector(question)\n",
    "    answer_scores = {}\n",
    "    for answer in answers:\n",
    "        answer_vector = model_sim.infer_vector(answer['answer_text'])\n",
    "        answer_scores[answer['answer_id']] = pairwise.cosine_similarity(question_vector.reshape(1, -1), answer_vector.reshape(1, -1))\n",
    "    best_answer = max(answer_scores.items(), key=lambda k: k[1])[0]\n",
    "    return best_answer"
   ]
  },
  {
   "cell_type": "code",
   "execution_count": 425,
   "metadata": {},
   "outputs": [
    {
     "data": {
      "text/plain": [
       "0.94402874"
      ]
     },
     "execution_count": 425,
     "metadata": {},
     "output_type": "execute_result"
    }
   ],
   "source": [
    "choose_answer_similarity(new_train[1][0], new_train[2][0], model_sim)[0][0]"
   ]
  },
  {
   "cell_type": "code",
   "execution_count": 427,
   "metadata": {
    "collapsed": true
   },
   "outputs": [],
   "source": [
    "def run_v6(data, choose_answer_method, model):\n",
    "    results = []\n",
    "    for instance in data:\n",
    "        for question in instance['questions']:\n",
    "            correct_answers = choose_answer_method(question['question_text'], question['answers'], model)\n",
    "            question_results = [instance['text_id'], question['question_id'], correct_answers]\n",
    "            results.append(question_results)\n",
    "    return results"
   ]
  },
  {
   "cell_type": "code",
   "execution_count": 432,
   "metadata": {},
   "outputs": [
    {
     "data": {
      "text/plain": [
       "49.121364710718325"
      ]
     },
     "execution_count": 432,
     "metadata": {},
     "output_type": "execute_result"
    }
   ],
   "source": [
    "evaluate(run_v6(train_data, choose_answer_similarity, model_sim), ideal_results_train)[0]"
   ]
  },
  {
   "cell_type": "code",
   "execution_count": 433,
   "metadata": {},
   "outputs": [
    {
     "data": {
      "text/plain": [
       "49.82282069454288"
      ]
     },
     "execution_count": 433,
     "metadata": {},
     "output_type": "execute_result"
    }
   ],
   "source": [
    "evaluate(run_v6(dev_data, choose_answer_similarity, model_sim), ideal_results_dev)[0]"
   ]
  }
 ],
 "metadata": {
  "kernelspec": {
   "display_name": "Python 3",
   "language": "python",
   "name": "python3"
  },
  "language_info": {
   "codemirror_mode": {
    "name": "ipython",
    "version": 3
   },
   "file_extension": ".py",
   "mimetype": "text/x-python",
   "name": "python",
   "nbconvert_exporter": "python",
   "pygments_lexer": "ipython3",
   "version": "3.6.1"
  }
 },
 "nbformat": 4,
 "nbformat_minor": 2
}
